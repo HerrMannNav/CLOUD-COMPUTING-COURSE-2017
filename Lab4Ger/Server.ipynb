{
 "cells": [
  {
   "cell_type": "code",
   "execution_count": null,
   "metadata": {
    "collapsed": false
   },
   "outputs": [
    {
     "name": "stdout",
     "output_type": "stream",
     "text": [
      "Started my REST API on port 8954\n"
     ]
    },
    {
     "name": "stderr",
     "output_type": "stream",
     "text": [
      "127.0.0.1 - - [27/May/2017 13:10:05] \"GET / HTTP/1.1\" 200 -\n",
      "127.0.0.1 - - [27/May/2017 13:10:05] \"GET /geo_data.json HTTP/1.1\" 200 -\n",
      "127.0.0.1 - - [27/May/2017 13:11:16] \"GET / HTTP/1.1\" 200 -\n",
      "127.0.0.1 - - [27/May/2017 13:11:16] \"GET /geo_data.json HTTP/1.1\" 200 -\n",
      "127.0.0.1 - - [27/May/2017 13:19:29] \"GET / HTTP/1.1\" 200 -\n",
      "127.0.0.1 - - [27/May/2017 13:19:29] \"GET /geo_data.json HTTP/1.1\" 200 -\n"
     ]
    }
   ],
   "source": [
    "#!/usr/bin/env python\n",
    "import SimpleHTTPServer\n",
    "import SocketServer\n",
    "\n",
    "class MyRequestHandler(SimpleHTTPServer.SimpleHTTPRequestHandler):\n",
    "    def do_GET(self):\n",
    "        if self.path == '/':\n",
    "            self.path = '/LeafLetExample4.2.html'\n",
    "        return SimpleHTTPServer.SimpleHTTPRequestHandler.do_GET(self)\n",
    "\n",
    "Handler = MyRequestHandler\n",
    "server = SocketServer.TCPServer(('0.0.0.0', 8954), Handler)\n",
    "\n",
    "print 'Started my REST API on port 8954' \n",
    "server.serve_forever()"
   ]
  },
  {
   "cell_type": "code",
   "execution_count": null,
   "metadata": {
    "collapsed": true
   },
   "outputs": [],
   "source": []
  }
 ],
 "metadata": {
  "kernelspec": {
   "display_name": "Python 2",
   "language": "python",
   "name": "python2"
  },
  "language_info": {
   "codemirror_mode": {
    "name": "ipython",
    "version": 2
   },
   "file_extension": ".py",
   "mimetype": "text/x-python",
   "name": "python",
   "nbconvert_exporter": "python",
   "pygments_lexer": "ipython2",
   "version": "2.7.13"
  }
 },
 "nbformat": 4,
 "nbformat_minor": 2
}
