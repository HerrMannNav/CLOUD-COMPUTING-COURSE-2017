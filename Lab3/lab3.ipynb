{
 "cells": [
  {
   "cell_type": "code",
   "execution_count": 2,
   "metadata": {
    "collapsed": false
   },
   "outputs": [],
   "source": [
    "import tweepy\n",
    "from tweepy import OAuthHandler\n",
    " \n",
    "consumer_key = ''\n",
    "consumer_secret = ''\n",
    "access_token = ''\n",
    "access_secret = ''\n",
    "\n",
    "auth = OAuthHandler(consumer_key, consumer_secret)\n",
    "auth.set_access_token(access_token, access_secret)\n",
    " \n",
    "api = tweepy.API(auth)"
   ]
  },
  {
   "cell_type": "markdown",
   "metadata": {},
   "source": [
    "# Generate json file from the keyword defined here.\n",
    "the filter will filter the work or the line that you have mentioned here"
   ]
  },
  {
   "cell_type": "code",
   "execution_count": 3,
   "metadata": {
    "collapsed": false
   },
   "outputs": [
    {
     "ename": "KeyboardInterrupt",
     "evalue": "",
     "output_type": "error",
     "traceback": [
      "\u001b[0;31m---------------------------------------------------------------------------\u001b[0m",
      "\u001b[0;31mKeyboardInterrupt\u001b[0m                         Traceback (most recent call last)",
      "\u001b[0;32m<ipython-input-3-7eef692d2685>\u001b[0m in \u001b[0;36m<module>\u001b[0;34m()\u001b[0m\n\u001b[1;32m     18\u001b[0m \u001b[0;34m\u001b[0m\u001b[0m\n\u001b[1;32m     19\u001b[0m \u001b[0mtwitter_stream\u001b[0m \u001b[0;34m=\u001b[0m \u001b[0mStream\u001b[0m\u001b[0;34m(\u001b[0m\u001b[0mauth\u001b[0m\u001b[0;34m,\u001b[0m \u001b[0mMyListener\u001b[0m\u001b[0;34m(\u001b[0m\u001b[0;34m)\u001b[0m\u001b[0;34m)\u001b[0m\u001b[0;34m\u001b[0m\u001b[0m\n\u001b[0;32m---> 20\u001b[0;31m \u001b[0mtwitter_stream\u001b[0m\u001b[0;34m.\u001b[0m\u001b[0mfilter\u001b[0m\u001b[0;34m(\u001b[0m\u001b[0mtrack\u001b[0m\u001b[0;34m=\u001b[0m\u001b[0;34m[\u001b[0m\u001b[0;34m'Ransomeware'\u001b[0m\u001b[0;34m]\u001b[0m\u001b[0;34m)\u001b[0m\u001b[0;34m\u001b[0m\u001b[0m\n\u001b[0m",
      "\u001b[0;32m/home/chetan/anaconda2/lib/python2.7/site-packages/tweepy/streaming.pyc\u001b[0m in \u001b[0;36mfilter\u001b[0;34m(self, follow, track, async, locations, stall_warnings, languages, encoding, filter_level)\u001b[0m\n\u001b[1;32m    443\u001b[0m         \u001b[0mself\u001b[0m\u001b[0;34m.\u001b[0m\u001b[0msession\u001b[0m\u001b[0;34m.\u001b[0m\u001b[0mparams\u001b[0m \u001b[0;34m=\u001b[0m \u001b[0;34m{\u001b[0m\u001b[0;34m'delimited'\u001b[0m\u001b[0;34m:\u001b[0m \u001b[0;34m'length'\u001b[0m\u001b[0;34m}\u001b[0m\u001b[0;34m\u001b[0m\u001b[0m\n\u001b[1;32m    444\u001b[0m         \u001b[0mself\u001b[0m\u001b[0;34m.\u001b[0m\u001b[0mhost\u001b[0m \u001b[0;34m=\u001b[0m \u001b[0;34m'stream.twitter.com'\u001b[0m\u001b[0;34m\u001b[0m\u001b[0m\n\u001b[0;32m--> 445\u001b[0;31m         \u001b[0mself\u001b[0m\u001b[0;34m.\u001b[0m\u001b[0m_start\u001b[0m\u001b[0;34m(\u001b[0m\u001b[0masync\u001b[0m\u001b[0;34m)\u001b[0m\u001b[0;34m\u001b[0m\u001b[0m\n\u001b[0m\u001b[1;32m    446\u001b[0m \u001b[0;34m\u001b[0m\u001b[0m\n\u001b[1;32m    447\u001b[0m     def sitestream(self, follow, stall_warnings=False,\n",
      "\u001b[0;32m/home/chetan/anaconda2/lib/python2.7/site-packages/tweepy/streaming.pyc\u001b[0m in \u001b[0;36m_start\u001b[0;34m(self, async)\u001b[0m\n\u001b[1;32m    359\u001b[0m             \u001b[0mself\u001b[0m\u001b[0;34m.\u001b[0m\u001b[0m_thread\u001b[0m\u001b[0;34m.\u001b[0m\u001b[0mstart\u001b[0m\u001b[0;34m(\u001b[0m\u001b[0;34m)\u001b[0m\u001b[0;34m\u001b[0m\u001b[0m\n\u001b[1;32m    360\u001b[0m         \u001b[0;32melse\u001b[0m\u001b[0;34m:\u001b[0m\u001b[0;34m\u001b[0m\u001b[0m\n\u001b[0;32m--> 361\u001b[0;31m             \u001b[0mself\u001b[0m\u001b[0;34m.\u001b[0m\u001b[0m_run\u001b[0m\u001b[0;34m(\u001b[0m\u001b[0;34m)\u001b[0m\u001b[0;34m\u001b[0m\u001b[0m\n\u001b[0m\u001b[1;32m    362\u001b[0m \u001b[0;34m\u001b[0m\u001b[0m\n\u001b[1;32m    363\u001b[0m     \u001b[0;32mdef\u001b[0m \u001b[0mon_closed\u001b[0m\u001b[0;34m(\u001b[0m\u001b[0mself\u001b[0m\u001b[0;34m,\u001b[0m \u001b[0mresp\u001b[0m\u001b[0;34m)\u001b[0m\u001b[0;34m:\u001b[0m\u001b[0;34m\u001b[0m\u001b[0m\n",
      "\u001b[0;32m/home/chetan/anaconda2/lib/python2.7/site-packages/tweepy/streaming.pyc\u001b[0m in \u001b[0;36m_run\u001b[0;34m(self)\u001b[0m\n\u001b[1;32m    261\u001b[0m                     \u001b[0mself\u001b[0m\u001b[0;34m.\u001b[0m\u001b[0msnooze_time\u001b[0m \u001b[0;34m=\u001b[0m \u001b[0mself\u001b[0m\u001b[0;34m.\u001b[0m\u001b[0msnooze_time_step\u001b[0m\u001b[0;34m\u001b[0m\u001b[0m\n\u001b[1;32m    262\u001b[0m                     \u001b[0mself\u001b[0m\u001b[0;34m.\u001b[0m\u001b[0mlistener\u001b[0m\u001b[0;34m.\u001b[0m\u001b[0mon_connect\u001b[0m\u001b[0;34m(\u001b[0m\u001b[0;34m)\u001b[0m\u001b[0;34m\u001b[0m\u001b[0m\n\u001b[0;32m--> 263\u001b[0;31m                     \u001b[0mself\u001b[0m\u001b[0;34m.\u001b[0m\u001b[0m_read_loop\u001b[0m\u001b[0;34m(\u001b[0m\u001b[0mresp\u001b[0m\u001b[0;34m)\u001b[0m\u001b[0;34m\u001b[0m\u001b[0m\n\u001b[0m\u001b[1;32m    264\u001b[0m             \u001b[0;32mexcept\u001b[0m \u001b[0;34m(\u001b[0m\u001b[0mTimeout\u001b[0m\u001b[0;34m,\u001b[0m \u001b[0mssl\u001b[0m\u001b[0;34m.\u001b[0m\u001b[0mSSLError\u001b[0m\u001b[0;34m)\u001b[0m \u001b[0;32mas\u001b[0m \u001b[0mexc\u001b[0m\u001b[0;34m:\u001b[0m\u001b[0;34m\u001b[0m\u001b[0m\n\u001b[1;32m    265\u001b[0m                 \u001b[0;31m# This is still necessary, as a SSLError can actually be\u001b[0m\u001b[0;34m\u001b[0m\u001b[0;34m\u001b[0m\u001b[0m\n",
      "\u001b[0;32m/home/chetan/anaconda2/lib/python2.7/site-packages/tweepy/streaming.pyc\u001b[0m in \u001b[0;36m_read_loop\u001b[0;34m(self, resp)\u001b[0m\n\u001b[1;32m    311\u001b[0m             \u001b[0mlength\u001b[0m \u001b[0;34m=\u001b[0m \u001b[0;36m0\u001b[0m\u001b[0;34m\u001b[0m\u001b[0m\n\u001b[1;32m    312\u001b[0m             \u001b[0;32mwhile\u001b[0m \u001b[0;32mnot\u001b[0m \u001b[0mresp\u001b[0m\u001b[0;34m.\u001b[0m\u001b[0mraw\u001b[0m\u001b[0;34m.\u001b[0m\u001b[0mclosed\u001b[0m\u001b[0;34m:\u001b[0m\u001b[0;34m\u001b[0m\u001b[0m\n\u001b[0;32m--> 313\u001b[0;31m                 \u001b[0mline\u001b[0m \u001b[0;34m=\u001b[0m \u001b[0mbuf\u001b[0m\u001b[0;34m.\u001b[0m\u001b[0mread_line\u001b[0m\u001b[0;34m(\u001b[0m\u001b[0;34m)\u001b[0m\u001b[0;34m.\u001b[0m\u001b[0mstrip\u001b[0m\u001b[0;34m(\u001b[0m\u001b[0;34m)\u001b[0m\u001b[0;34m\u001b[0m\u001b[0m\n\u001b[0m\u001b[1;32m    314\u001b[0m                 \u001b[0;32mif\u001b[0m \u001b[0;32mnot\u001b[0m \u001b[0mline\u001b[0m\u001b[0;34m:\u001b[0m\u001b[0;34m\u001b[0m\u001b[0m\n\u001b[1;32m    315\u001b[0m                     \u001b[0mself\u001b[0m\u001b[0;34m.\u001b[0m\u001b[0mlistener\u001b[0m\u001b[0;34m.\u001b[0m\u001b[0mkeep_alive\u001b[0m\u001b[0;34m(\u001b[0m\u001b[0;34m)\u001b[0m  \u001b[0;31m# keep-alive new lines are expected\u001b[0m\u001b[0;34m\u001b[0m\u001b[0m\n",
      "\u001b[0;32m/home/chetan/anaconda2/lib/python2.7/site-packages/tweepy/streaming.pyc\u001b[0m in \u001b[0;36mread_line\u001b[0;34m(self, sep)\u001b[0m\n\u001b[1;32m    177\u001b[0m             \u001b[0;32melse\u001b[0m\u001b[0;34m:\u001b[0m\u001b[0;34m\u001b[0m\u001b[0m\n\u001b[1;32m    178\u001b[0m                 \u001b[0mstart\u001b[0m \u001b[0;34m=\u001b[0m \u001b[0mlen\u001b[0m\u001b[0;34m(\u001b[0m\u001b[0mself\u001b[0m\u001b[0;34m.\u001b[0m\u001b[0m_buffer\u001b[0m\u001b[0;34m)\u001b[0m\u001b[0;34m\u001b[0m\u001b[0m\n\u001b[0;32m--> 179\u001b[0;31m             \u001b[0mself\u001b[0m\u001b[0;34m.\u001b[0m\u001b[0m_buffer\u001b[0m \u001b[0;34m+=\u001b[0m \u001b[0mself\u001b[0m\u001b[0;34m.\u001b[0m\u001b[0m_stream\u001b[0m\u001b[0;34m.\u001b[0m\u001b[0mread\u001b[0m\u001b[0;34m(\u001b[0m\u001b[0mself\u001b[0m\u001b[0;34m.\u001b[0m\u001b[0m_chunk_size\u001b[0m\u001b[0;34m)\u001b[0m\u001b[0;34m\u001b[0m\u001b[0m\n\u001b[0m\u001b[1;32m    180\u001b[0m \u001b[0;34m\u001b[0m\u001b[0m\n\u001b[1;32m    181\u001b[0m     \u001b[0;32mdef\u001b[0m \u001b[0m_pop\u001b[0m\u001b[0;34m(\u001b[0m\u001b[0mself\u001b[0m\u001b[0;34m,\u001b[0m \u001b[0mlength\u001b[0m\u001b[0;34m)\u001b[0m\u001b[0;34m:\u001b[0m\u001b[0;34m\u001b[0m\u001b[0m\n",
      "\u001b[0;32m/home/chetan/.local/lib/python2.7/site-packages/requests/packages/urllib3/response.pyc\u001b[0m in \u001b[0;36mread\u001b[0;34m(self, amt, decode_content, cache_content)\u001b[0m\n\u001b[1;32m    378\u001b[0m             \u001b[0;32melse\u001b[0m\u001b[0;34m:\u001b[0m\u001b[0;34m\u001b[0m\u001b[0m\n\u001b[1;32m    379\u001b[0m                 \u001b[0mcache_content\u001b[0m \u001b[0;34m=\u001b[0m \u001b[0mFalse\u001b[0m\u001b[0;34m\u001b[0m\u001b[0m\n\u001b[0;32m--> 380\u001b[0;31m                 \u001b[0mdata\u001b[0m \u001b[0;34m=\u001b[0m \u001b[0mself\u001b[0m\u001b[0;34m.\u001b[0m\u001b[0m_fp\u001b[0m\u001b[0;34m.\u001b[0m\u001b[0mread\u001b[0m\u001b[0;34m(\u001b[0m\u001b[0mamt\u001b[0m\u001b[0;34m)\u001b[0m\u001b[0;34m\u001b[0m\u001b[0m\n\u001b[0m\u001b[1;32m    381\u001b[0m                 \u001b[0;32mif\u001b[0m \u001b[0mamt\u001b[0m \u001b[0;34m!=\u001b[0m \u001b[0;36m0\u001b[0m \u001b[0;32mand\u001b[0m \u001b[0;32mnot\u001b[0m \u001b[0mdata\u001b[0m\u001b[0;34m:\u001b[0m  \u001b[0;31m# Platform-specific: Buggy versions of Python.\u001b[0m\u001b[0;34m\u001b[0m\u001b[0m\n\u001b[1;32m    382\u001b[0m                     \u001b[0;31m# Close the connection when no data is returned\u001b[0m\u001b[0;34m\u001b[0m\u001b[0;34m\u001b[0m\u001b[0m\n",
      "\u001b[0;32m/home/chetan/anaconda2/lib/python2.7/httplib.pyc\u001b[0m in \u001b[0;36mread\u001b[0;34m(self, amt)\u001b[0m\n\u001b[1;32m    571\u001b[0m \u001b[0;34m\u001b[0m\u001b[0m\n\u001b[1;32m    572\u001b[0m         \u001b[0;32mif\u001b[0m \u001b[0mself\u001b[0m\u001b[0;34m.\u001b[0m\u001b[0mchunked\u001b[0m\u001b[0;34m:\u001b[0m\u001b[0;34m\u001b[0m\u001b[0m\n\u001b[0;32m--> 573\u001b[0;31m             \u001b[0;32mreturn\u001b[0m \u001b[0mself\u001b[0m\u001b[0;34m.\u001b[0m\u001b[0m_read_chunked\u001b[0m\u001b[0;34m(\u001b[0m\u001b[0mamt\u001b[0m\u001b[0;34m)\u001b[0m\u001b[0;34m\u001b[0m\u001b[0m\n\u001b[0m\u001b[1;32m    574\u001b[0m \u001b[0;34m\u001b[0m\u001b[0m\n\u001b[1;32m    575\u001b[0m         \u001b[0;32mif\u001b[0m \u001b[0mamt\u001b[0m \u001b[0;32mis\u001b[0m \u001b[0mNone\u001b[0m\u001b[0;34m:\u001b[0m\u001b[0;34m\u001b[0m\u001b[0m\n",
      "\u001b[0;32m/home/chetan/anaconda2/lib/python2.7/httplib.pyc\u001b[0m in \u001b[0;36m_read_chunked\u001b[0;34m(self, amt)\u001b[0m\n\u001b[1;32m    613\u001b[0m         \u001b[0;32mwhile\u001b[0m \u001b[0mTrue\u001b[0m\u001b[0;34m:\u001b[0m\u001b[0;34m\u001b[0m\u001b[0m\n\u001b[1;32m    614\u001b[0m             \u001b[0;32mif\u001b[0m \u001b[0mchunk_left\u001b[0m \u001b[0;32mis\u001b[0m \u001b[0mNone\u001b[0m\u001b[0;34m:\u001b[0m\u001b[0;34m\u001b[0m\u001b[0m\n\u001b[0;32m--> 615\u001b[0;31m                 \u001b[0mline\u001b[0m \u001b[0;34m=\u001b[0m \u001b[0mself\u001b[0m\u001b[0;34m.\u001b[0m\u001b[0mfp\u001b[0m\u001b[0;34m.\u001b[0m\u001b[0mreadline\u001b[0m\u001b[0;34m(\u001b[0m\u001b[0m_MAXLINE\u001b[0m \u001b[0;34m+\u001b[0m \u001b[0;36m1\u001b[0m\u001b[0;34m)\u001b[0m\u001b[0;34m\u001b[0m\u001b[0m\n\u001b[0m\u001b[1;32m    616\u001b[0m                 \u001b[0;32mif\u001b[0m \u001b[0mlen\u001b[0m\u001b[0;34m(\u001b[0m\u001b[0mline\u001b[0m\u001b[0;34m)\u001b[0m \u001b[0;34m>\u001b[0m \u001b[0m_MAXLINE\u001b[0m\u001b[0;34m:\u001b[0m\u001b[0;34m\u001b[0m\u001b[0m\n\u001b[1;32m    617\u001b[0m                     \u001b[0;32mraise\u001b[0m \u001b[0mLineTooLong\u001b[0m\u001b[0;34m(\u001b[0m\u001b[0;34m\"chunk size\"\u001b[0m\u001b[0;34m)\u001b[0m\u001b[0;34m\u001b[0m\u001b[0m\n",
      "\u001b[0;32m/home/chetan/anaconda2/lib/python2.7/socket.pyc\u001b[0m in \u001b[0;36mreadline\u001b[0;34m(self, size)\u001b[0m\n\u001b[1;32m    478\u001b[0m             \u001b[0;32mwhile\u001b[0m \u001b[0mTrue\u001b[0m\u001b[0;34m:\u001b[0m\u001b[0;34m\u001b[0m\u001b[0m\n\u001b[1;32m    479\u001b[0m                 \u001b[0;32mtry\u001b[0m\u001b[0;34m:\u001b[0m\u001b[0;34m\u001b[0m\u001b[0m\n\u001b[0;32m--> 480\u001b[0;31m                     \u001b[0mdata\u001b[0m \u001b[0;34m=\u001b[0m \u001b[0mself\u001b[0m\u001b[0;34m.\u001b[0m\u001b[0m_sock\u001b[0m\u001b[0;34m.\u001b[0m\u001b[0mrecv\u001b[0m\u001b[0;34m(\u001b[0m\u001b[0mself\u001b[0m\u001b[0;34m.\u001b[0m\u001b[0m_rbufsize\u001b[0m\u001b[0;34m)\u001b[0m\u001b[0;34m\u001b[0m\u001b[0m\n\u001b[0m\u001b[1;32m    481\u001b[0m                 \u001b[0;32mexcept\u001b[0m \u001b[0merror\u001b[0m\u001b[0;34m,\u001b[0m \u001b[0me\u001b[0m\u001b[0;34m:\u001b[0m\u001b[0;34m\u001b[0m\u001b[0m\n\u001b[1;32m    482\u001b[0m                     \u001b[0;32mif\u001b[0m \u001b[0me\u001b[0m\u001b[0;34m.\u001b[0m\u001b[0margs\u001b[0m\u001b[0;34m[\u001b[0m\u001b[0;36m0\u001b[0m\u001b[0;34m]\u001b[0m \u001b[0;34m==\u001b[0m \u001b[0mEINTR\u001b[0m\u001b[0;34m:\u001b[0m\u001b[0;34m\u001b[0m\u001b[0m\n",
      "\u001b[0;32m/home/chetan/.local/lib/python2.7/site-packages/requests/packages/urllib3/contrib/pyopenssl.pyc\u001b[0m in \u001b[0;36mrecv\u001b[0;34m(self, *args, **kwargs)\u001b[0m\n\u001b[1;32m    265\u001b[0m                 \u001b[0;32mraise\u001b[0m\u001b[0;34m\u001b[0m\u001b[0m\n\u001b[1;32m    266\u001b[0m         \u001b[0;32mexcept\u001b[0m \u001b[0mOpenSSL\u001b[0m\u001b[0;34m.\u001b[0m\u001b[0mSSL\u001b[0m\u001b[0;34m.\u001b[0m\u001b[0mWantReadError\u001b[0m\u001b[0;34m:\u001b[0m\u001b[0;34m\u001b[0m\u001b[0m\n\u001b[0;32m--> 267\u001b[0;31m             \u001b[0mrd\u001b[0m \u001b[0;34m=\u001b[0m \u001b[0mutil\u001b[0m\u001b[0;34m.\u001b[0m\u001b[0mwait_for_read\u001b[0m\u001b[0;34m(\u001b[0m\u001b[0mself\u001b[0m\u001b[0;34m.\u001b[0m\u001b[0msocket\u001b[0m\u001b[0;34m,\u001b[0m \u001b[0mself\u001b[0m\u001b[0;34m.\u001b[0m\u001b[0msocket\u001b[0m\u001b[0;34m.\u001b[0m\u001b[0mgettimeout\u001b[0m\u001b[0;34m(\u001b[0m\u001b[0;34m)\u001b[0m\u001b[0;34m)\u001b[0m\u001b[0;34m\u001b[0m\u001b[0m\n\u001b[0m\u001b[1;32m    268\u001b[0m             \u001b[0;32mif\u001b[0m \u001b[0;32mnot\u001b[0m \u001b[0mrd\u001b[0m\u001b[0;34m:\u001b[0m\u001b[0;34m\u001b[0m\u001b[0m\n\u001b[1;32m    269\u001b[0m                 \u001b[0;32mraise\u001b[0m \u001b[0mtimeout\u001b[0m\u001b[0;34m(\u001b[0m\u001b[0;34m'The read operation timed out'\u001b[0m\u001b[0;34m)\u001b[0m\u001b[0;34m\u001b[0m\u001b[0m\n",
      "\u001b[0;32m/home/chetan/.local/lib/python2.7/site-packages/requests/packages/urllib3/util/wait.pyc\u001b[0m in \u001b[0;36mwait_for_read\u001b[0;34m(socks, timeout)\u001b[0m\n\u001b[1;32m     31\u001b[0m     \u001b[0;32mor\u001b[0m \u001b[0moptionally\u001b[0m \u001b[0ma\u001b[0m \u001b[0msingle\u001b[0m \u001b[0msocket\u001b[0m \u001b[0;32mif\u001b[0m \u001b[0mpassed\u001b[0m \u001b[0;32min\u001b[0m\u001b[0;34m.\u001b[0m \u001b[0mReturns\u001b[0m \u001b[0ma\u001b[0m \u001b[0mlist\u001b[0m \u001b[0mof\u001b[0m\u001b[0;34m\u001b[0m\u001b[0m\n\u001b[1;32m     32\u001b[0m     sockets that can be read from immediately. \"\"\"\n\u001b[0;32m---> 33\u001b[0;31m     \u001b[0;32mreturn\u001b[0m \u001b[0m_wait_for_io_events\u001b[0m\u001b[0;34m(\u001b[0m\u001b[0msocks\u001b[0m\u001b[0;34m,\u001b[0m \u001b[0mEVENT_READ\u001b[0m\u001b[0;34m,\u001b[0m \u001b[0mtimeout\u001b[0m\u001b[0;34m)\u001b[0m\u001b[0;34m\u001b[0m\u001b[0m\n\u001b[0m\u001b[1;32m     34\u001b[0m \u001b[0;34m\u001b[0m\u001b[0m\n\u001b[1;32m     35\u001b[0m \u001b[0;34m\u001b[0m\u001b[0m\n",
      "\u001b[0;32m/home/chetan/.local/lib/python2.7/site-packages/requests/packages/urllib3/util/wait.pyc\u001b[0m in \u001b[0;36m_wait_for_io_events\u001b[0;34m(socks, events, timeout)\u001b[0m\n\u001b[1;32m     24\u001b[0m             \u001b[0mselector\u001b[0m\u001b[0;34m.\u001b[0m\u001b[0mregister\u001b[0m\u001b[0;34m(\u001b[0m\u001b[0msock\u001b[0m\u001b[0;34m,\u001b[0m \u001b[0mevents\u001b[0m\u001b[0;34m)\u001b[0m\u001b[0;34m\u001b[0m\u001b[0m\n\u001b[1;32m     25\u001b[0m         return [key[0].fileobj for key in\n\u001b[0;32m---> 26\u001b[0;31m                 selector.select(timeout) if key[1] & events]\n\u001b[0m\u001b[1;32m     27\u001b[0m \u001b[0;34m\u001b[0m\u001b[0m\n\u001b[1;32m     28\u001b[0m \u001b[0;34m\u001b[0m\u001b[0m\n",
      "\u001b[0;32m/home/chetan/.local/lib/python2.7/site-packages/requests/packages/urllib3/util/selectors.pyc\u001b[0m in \u001b[0;36mselect\u001b[0;34m(self, timeout)\u001b[0m\n\u001b[1;32m    406\u001b[0m             fd_events = _syscall_wrapper(self._epoll.poll, True,\n\u001b[1;32m    407\u001b[0m                                          \u001b[0mtimeout\u001b[0m\u001b[0;34m=\u001b[0m\u001b[0mtimeout\u001b[0m\u001b[0;34m,\u001b[0m\u001b[0;34m\u001b[0m\u001b[0m\n\u001b[0;32m--> 408\u001b[0;31m                                          maxevents=max_events)\n\u001b[0m\u001b[1;32m    409\u001b[0m             \u001b[0;32mfor\u001b[0m \u001b[0mfd\u001b[0m\u001b[0;34m,\u001b[0m \u001b[0mevent_mask\u001b[0m \u001b[0;32min\u001b[0m \u001b[0mfd_events\u001b[0m\u001b[0;34m:\u001b[0m\u001b[0;34m\u001b[0m\u001b[0m\n\u001b[1;32m    410\u001b[0m                 \u001b[0mevents\u001b[0m \u001b[0;34m=\u001b[0m \u001b[0;36m0\u001b[0m\u001b[0;34m\u001b[0m\u001b[0m\n",
      "\u001b[0;32m/home/chetan/.local/lib/python2.7/site-packages/requests/packages/urllib3/util/selectors.pyc\u001b[0m in \u001b[0;36m_syscall_wrapper\u001b[0;34m(func, recalc_timeout, *args, **kwargs)\u001b[0m\n\u001b[1;32m     74\u001b[0m     \u001b[0;32mwhile\u001b[0m \u001b[0mresult\u001b[0m \u001b[0;32mis\u001b[0m \u001b[0m_SYSCALL_SENTINEL\u001b[0m\u001b[0;34m:\u001b[0m\u001b[0;34m\u001b[0m\u001b[0m\n\u001b[1;32m     75\u001b[0m         \u001b[0;32mtry\u001b[0m\u001b[0;34m:\u001b[0m\u001b[0;34m\u001b[0m\u001b[0m\n\u001b[0;32m---> 76\u001b[0;31m             \u001b[0mresult\u001b[0m \u001b[0;34m=\u001b[0m \u001b[0mfunc\u001b[0m\u001b[0;34m(\u001b[0m\u001b[0;34m*\u001b[0m\u001b[0margs\u001b[0m\u001b[0;34m,\u001b[0m \u001b[0;34m**\u001b[0m\u001b[0mkwargs\u001b[0m\u001b[0;34m)\u001b[0m\u001b[0;34m\u001b[0m\u001b[0m\n\u001b[0m\u001b[1;32m     77\u001b[0m         \u001b[0;31m# OSError is thrown by select.select\u001b[0m\u001b[0;34m\u001b[0m\u001b[0;34m\u001b[0m\u001b[0m\n\u001b[1;32m     78\u001b[0m         \u001b[0;31m# IOError is thrown by select.epoll.poll\u001b[0m\u001b[0;34m\u001b[0m\u001b[0;34m\u001b[0m\u001b[0m\n",
      "\u001b[0;31mKeyboardInterrupt\u001b[0m: "
     ]
    }
   ],
   "source": [
    "from tweepy import Stream\n",
    "from tweepy.streaming import StreamListener\n",
    " \n",
    "class MyListener(StreamListener):\n",
    " \n",
    "    def on_data(self, data):\n",
    "        try:\n",
    "            with open('Ransomeware.json', 'a') as f:\n",
    "                f.write(data)\n",
    "                return True\n",
    "        except BaseException as e:\n",
    "            print(\"Error on_data: %s\" % str(e))\n",
    "        return True\n",
    " \n",
    "    def on_error(self, status):\n",
    "        print(status)\n",
    "        return True\n",
    " \n",
    "twitter_stream = Stream(auth, MyListener())\n",
    "twitter_stream.filter(track=['Ransomeware'])"
   ]
  },
  {
   "cell_type": "markdown",
   "metadata": {},
   "source": [
    "# print the txt from the file that was generated in above step"
   ]
  },
  {
   "cell_type": "code",
   "execution_count": 4,
   "metadata": {
    "collapsed": false
   },
   "outputs": [
    {
     "name": "stdout",
     "output_type": "stream",
     "text": [
      "Ransomeware Cyber-Attacks Has Stunned The Entire World https://t.co/c7AYuqKx3G https://t.co/80tBUaEVvS\n",
      "&lt;&lt;research shows a spike of ... 1,000% in Android ransomware.&gt;&gt;\n",
      "\n",
      "https://t.co/wVW7eZegNZ https://t.co/IkmX0tn1BX\n",
      "Μερική λύση αν έχουν μολυνθεί τα αρχεία σας από το #WannaCry #ransomeware Μην κάνετε επανεκκίνηση και ακολουθείστε… https://t.co/oazrlYrfZ8\n",
      "Ransomeware affects Thírupathí Devasthana C https://t.co/khnBWVxAT3 TECH - COMPUTERS #affects #computers #devasthana CLASSIFIEDS ADS GRATIS\n",
      "Arundhati Roy's Top Floor Machine is the latest victim of Wannacry Ransomeware 😂\n",
      "Her Brain was uplinked to China, w… https://t.co/2OwipLyVwA\n",
      "RT @liliputingnews: Do not reboot your PC if you get WannaCry ransomeware – try this instead https://t.co/mWstslIC1j https://t.co/A0f0XeR3Iv\n",
      "North Korea Might Be Behind WannaCry 'Ransomeware' hacks | Metro.us.. Related Articles: https://t.co/RAGIVDzUmg\n",
      "You Can Now Decrypt Or Patch WannaCry Ransomeware Attack On Windows, Sort Of https://t.co/02G4j5lGgt https://t.co/SN7LG57lcc\n",
      "Kaspersky Ransomeware Coinvault Virus Support https://t.co/S928Kjfoj6 via @YouTube\n",
      "💥💥💥💥💥💥💥💥💥💥💥 sharing\n",
      "\n",
      "I like this name *'Ransomeware VIRUS'* which shook the software/computer world for the past... https://t.co/YUPQG8Ho2R\n",
      "RT @verge: After WannaCry, a new bill would force the NSA to justify its hacking tools https://t.co/SNrBhOId3d https://t.co/bTD5XcDhvk\n",
      "Ransomeware  वायरस भारत मे भी अटैक करने आया था पर यहां आम आदमी पार्टी के ईवीएम हैकर्स को देखकर डर के मारे वापिस भाग गया..✍😉\n",
      "RT @EtvOdiaNews: #Nayagarh ଶରଣକୂଳ ବଜାରସ୍ଥିତ ଫଟୋ ଷ୍ଟୁଡିଓ କମ୍ପ୍ୟୁଟରକୁ #Ransomeware  #VirusAttack #Odisha\n",
      "RT @SHEKHARJHA1: Ransomeware  वायरस भारत मे भी अटैक करने आया था पर यहां आम आदमी पार्टी के ईवीएम हैकर्स को देखकर डर के मारे वापिस भाग गया..✍😉\n",
      "RT @NigeriaNewsdesk: French researchers find way to unlock ransomeware without payment https://t.co/aO1oIZrP0J via @todayng https://t.co/cp…\n",
      "RT @SHEKHARJHA1: Ransomeware  वायरस भारत मे भी अटैक करने आया था पर यहां आम आदमी पार्टी के ईवीएम हैकर्स को देखकर डर के मारे वापिस भाग गया..✍😉\n",
      "Microsoft releases Windows XP patch for WannaCrypt ransomware https://t.co/t22kQBt923 #security #cybersecurity… https://t.co/wlvSEvQ65S\n",
      "RT @NigeriaNewsdesk: French researchers find way to unlock ransomeware without payment https://t.co/aO1oIZrP0J via @todayng https://t.co/cp…\n",
      "RT @AfricaData: RANSOMEWARE?\n",
      "\n",
      "Put some IRON into your back-up and beat malicious virals to a pile of dust RIGHT NOW\n",
      "\n",
      "#IronTree… \n",
      "25pcs hs effected by #ransomeware at Kota railway Region. Thanx to @narendramodi n @sureshpprabhu for #DigitalIndia\n",
      "RT @SHEKHARJHA1: Ransomeware  वायरस भारत मे भी अटैक करने आया था पर यहां आम आदमी पार्टी के ईवीएम हैकर्स को देखकर डर के मारे वापिस भाग गया..✍😉\n",
      "RT @Sadhu_DD: #Ransomeware ko to rok loge, par is dhinchak pooja jaise virus ko kaise rokoge.....\n",
      "@SirPareshRawal Ransomeware se hum bhartiya nahi derte kyon ki hum maggi naam ka udsse bada virus pichhle teen saalon se jhel rahe hai.....\n",
      "Surefire anti-RANSOMEWARE LOSS prevention = IRONTREE\n",
      "@AfricaData https://t.co/6zXM9fQbsR\n",
      "WannaCry: How the ransomware attack affected India &amp; what should be done to prevent a repeat hit https://t.co/GnkO7aLfB8 via @scroll_in App\n"
     ]
    }
   ],
   "source": [
    "import json  \n",
    "with open('Ransomeware.json','r') as json_file:\n",
    "         for line in json_file:\n",
    "             tweet = json.loads(line)\n",
    "             print tweet[\"text\"]"
   ]
  },
  {
   "cell_type": "markdown",
   "metadata": {},
   "source": [
    "# To print the token we need to define it here"
   ]
  },
  {
   "cell_type": "code",
   "execution_count": 5,
   "metadata": {
    "collapsed": true
   },
   "outputs": [],
   "source": [
    "import re\n",
    " \n",
    "emoticons_str = r\"\"\"\n",
    "    (?:\n",
    "        [:=;] # Eyes\n",
    "        [oO\\-]? # Nose (optional)\n",
    "        [D\\)\\]\\(\\]/\\\\OpP] # Mouth\n",
    "    )\"\"\"\n",
    " \n",
    "regex_str = [\n",
    "    emoticons_str,\n",
    "    r'<[^>]+>', # HTML tags\n",
    "    r'(?:@[\\w_]+)', # @-mentions\n",
    "    r\"(?:\\#+[\\w_]+[\\w\\'_\\-]*[\\w_]+)\", # hash-tags\n",
    "    r'http[s]?://(?:[a-z]|[0-9]|[$-_@.&+]|[!*\\(\\),]|(?:%[0-9a-f][0-9a-f]))+', # URLs\n",
    " \n",
    "    r'(?:(?:\\d+,?)+(?:\\.?\\d+)?)', # numbers\n",
    "    r\"(?:[a-z][a-z'\\-_]+[a-z])\", # words with - and '\n",
    "    r'(?:[\\w_]+)', # other words\n",
    "    r'(?:\\S)' # anything else\n",
    "]\n",
    "    \n",
    "tokens_re = re.compile(r'('+'|'.join(regex_str)+')', re.VERBOSE | re.IGNORECASE)\n",
    "emoticon_re = re.compile(r'^'+emoticons_str+'$', re.VERBOSE | re.IGNORECASE)\n",
    " \n",
    "def tokenize(s):\n",
    "    return tokens_re.findall(s)\n",
    " \n",
    "def preprocess(s, lowercase=False):\n",
    "    tokens = tokenize(s)\n",
    "    if lowercase:\n",
    "        tokens = [token if emoticon_re.search(token) else token.lower() for token in tokens]\n",
    "    return tokens"
   ]
  },
  {
   "cell_type": "markdown",
   "metadata": {},
   "source": [
    "# this will print the token which was defined in above code from the file Ramsomeware.json"
   ]
  },
  {
   "cell_type": "code",
   "execution_count": 6,
   "metadata": {
    "collapsed": false
   },
   "outputs": [
    {
     "name": "stdout",
     "output_type": "stream",
     "text": [
      "[u'Ransomeware', u'Cyber-Attacks', u'Has', u'Stunned', u'The', u'Entire', u'\\xa0', u'World', u'https://t.co/c7AYuqKx3G', u'https://t.co/80tBUaEVvS']\n",
      "[u'&', u'lt', u';', u'&', u'lt', u';', u'research', u'shows', u'a', u'spike', u'of', u'.', u'.', u'.', u'1,000', u'%', u'in', u'Android', u'ransomware', u'.', u'&', u'gt', u';', u'&', u'gt', u';', u'https://t.co/wVW7eZegNZ', u'https://t.co/IkmX0tn1BX']\n",
      "[u'\\u039c', u'\\u03b5', u'\\u03c1', u'\\u03b9', u'\\u03ba', u'\\u03ae', u'\\u03bb', u'\\u03cd', u'\\u03c3', u'\\u03b7', u'\\u03b1', u'\\u03bd', u'\\u03ad', u'\\u03c7', u'\\u03bf', u'\\u03c5', u'\\u03bd', u'\\u03bc', u'\\u03bf', u'\\u03bb', u'\\u03c5', u'\\u03bd', u'\\u03b8', u'\\u03b5', u'\\u03af', u'\\u03c4', u'\\u03b1', u'\\u03b1', u'\\u03c1', u'\\u03c7', u'\\u03b5', u'\\u03af', u'\\u03b1', u'\\u03c3', u'\\u03b1', u'\\u03c2', u'\\u03b1', u'\\u03c0', u'\\u03cc', u'\\u03c4', u'\\u03bf', u'#WannaCry', u'#ransomeware', u'\\u039c', u'\\u03b7', u'\\u03bd', u'\\u03ba', u'\\u03ac', u'\\u03bd', u'\\u03b5', u'\\u03c4', u'\\u03b5', u'\\u03b5', u'\\u03c0', u'\\u03b1', u'\\u03bd', u'\\u03b5', u'\\u03ba', u'\\u03ba', u'\\u03af', u'\\u03bd', u'\\u03b7', u'\\u03c3', u'\\u03b7', u'\\u03ba', u'\\u03b1', u'\\u03b9', u'\\u03b1', u'\\u03ba', u'\\u03bf', u'\\u03bb', u'\\u03bf', u'\\u03c5', u'\\u03b8', u'\\u03b5', u'\\u03af', u'\\u03c3', u'\\u03c4', u'\\u03b5', u'\\u2026', u'https://t.co/oazrlYrfZ8']\n",
      "[u'Ransomeware', u'affects', u'Th', u'\\xed', u'rupath', u'\\xed', u'Devasthana', u'C', u'https://t.co/khnBWVxAT3', u'TECH', u'-', u'COMPUTERS', u'#affects', u'#computers', u'#devasthana', u'CLASSIFIEDS', u'ADS', u'GRATIS']\n",
      "[u'Arundhati', u\"Roy's\", u'Top', u'Floor', u'Machine', u'is', u'the', u'latest', u'victim', u'of', u'Wannacry', u'Ransomeware', u'\\U0001f602', u'Her', u'Brain', u'was', u'uplinked', u'to', u'China', u',', u'w', u'\\u2026', u'https://t.co/2OwipLyVwA']\n",
      "[u'RT', u'@liliputingnews', u':', u'Do', u'not', u'reboot', u'your', u'PC', u'if', u'you', u'get', u'WannaCry', u'ransomeware', u'\\u2013', u'try', u'this', u'\\xa0', u'instead', u'https://t.co/mWstslIC1j', u'https://t.co/A0f0XeR3Iv']\n",
      "[u'North', u'Korea', u'Might', u'Be', u'Behind', u'WannaCry', u\"'\", u'Ransomeware', u\"'\", u'hacks', u'|', u'Metro', u'.', u'us', u'.', u'.', u'Related', u'Articles', u':', u'https://t.co/RAGIVDzUmg']\n",
      "[u'You', u'Can', u'Now', u'Decrypt', u'Or', u'Patch', u'WannaCry', u'Ransomeware', u'Attack', u'On', u'Windows', u',', u'Sort', u'\\xa0', u'Of', u'https://t.co/02G4j5lGgt', u'https://t.co/SN7LG57lcc']\n",
      "[u'Kaspersky', u'Ransomeware', u'Coinvault', u'Virus', u'Support', u'https://t.co/S928Kjfoj6', u'via', u'@YouTube']\n",
      "[u'\\U0001f4a5', u'\\U0001f4a5', u'\\U0001f4a5', u'\\U0001f4a5', u'\\U0001f4a5', u'\\U0001f4a5', u'\\U0001f4a5', u'\\U0001f4a5', u'\\U0001f4a5', u'\\U0001f4a5', u'\\U0001f4a5', u'sharing', u'I', u'like', u'this', u'name', u'*', u\"'\", u'Ransomeware', u'VIRUS', u\"'\", u'*', u'which', u'shook', u'the', u'software', u'/', u'computer', u'world', u'for', u'the', u'past', u'.', u'.', u'.', u'https://t.co/YUPQG8Ho2R']\n",
      "[u'RT', u'@verge', u':', u'After', u'WannaCry', u',', u'a', u'new', u'bill', u'would', u'force', u'the', u'NSA', u'to', u'justify', u'its', u'hacking', u'tools', u'https://t.co/SNrBhOId3d', u'https://t.co/bTD5XcDhvk']\n",
      "[u'Ransomeware', u'\\u0935', u'\\u093e', u'\\u092f', u'\\u0930', u'\\u0938', u'\\u092d', u'\\u093e', u'\\u0930', u'\\u0924', u'\\u092e', u'\\u0947', u'\\u092d', u'\\u0940', u'\\u0905', u'\\u091f', u'\\u0948', u'\\u0915', u'\\u0915', u'\\u0930', u'\\u0928', u'\\u0947', u'\\u0906', u'\\u092f', u'\\u093e', u'\\u0925', u'\\u093e', u'\\u092a', u'\\u0930', u'\\u092f', u'\\u0939', u'\\u093e', u'\\u0902', u'\\u0906', u'\\u092e', u'\\u0906', u'\\u0926', u'\\u092e', u'\\u0940', u'\\u092a', u'\\u093e', u'\\u0930', u'\\u094d', u'\\u091f', u'\\u0940', u'\\u0915', u'\\u0947', u'\\u0908', u'\\u0935', u'\\u0940', u'\\u090f', u'\\u092e', u'\\u0939', u'\\u0948', u'\\u0915', u'\\u0930', u'\\u094d', u'\\u0938', u'\\u0915', u'\\u094b', u'\\u0926', u'\\u0947', u'\\u0916', u'\\u0915', u'\\u0930', u'\\u0921', u'\\u0930', u'\\u0915', u'\\u0947', u'\\u092e', u'\\u093e', u'\\u0930', u'\\u0947', u'\\u0935', u'\\u093e', u'\\u092a', u'\\u093f', u'\\u0938', u'\\u092d', u'\\u093e', u'\\u0917', u'\\u0917', u'\\u092f', u'\\u093e', u'.', u'.', u'\\u270d', u'\\U0001f609']\n",
      "[u'RT', u'@EtvOdiaNews', u':', u'#Nayagarh', u'\\u0b36', u'\\u0b30', u'\\u0b23', u'\\u0b15', u'\\u0b42', u'\\u0b33', u'\\u0b2c', u'\\u0b1c', u'\\u0b3e', u'\\u0b30', u'\\u0b38', u'\\u0b4d', u'\\u0b25', u'\\u0b3f', u'\\u0b24', u'\\u0b2b', u'\\u0b1f', u'\\u0b4b', u'\\u0b37', u'\\u0b4d', u'\\u0b1f', u'\\u0b41', u'\\u0b21', u'\\u0b3f', u'\\u0b13', u'\\u0b15', u'\\u0b2e', u'\\u0b4d', u'\\u0b2a', u'\\u0b4d', u'\\u0b5f', u'\\u0b41', u'\\u0b1f', u'\\u0b30', u'\\u0b15', u'\\u0b41', u'#Ransomeware', u'#VirusAttack', u'#Odisha']\n",
      "[u'RT', u'@SHEKHARJHA1', u':', u'Ransomeware', u'\\u0935', u'\\u093e', u'\\u092f', u'\\u0930', u'\\u0938', u'\\u092d', u'\\u093e', u'\\u0930', u'\\u0924', u'\\u092e', u'\\u0947', u'\\u092d', u'\\u0940', u'\\u0905', u'\\u091f', u'\\u0948', u'\\u0915', u'\\u0915', u'\\u0930', u'\\u0928', u'\\u0947', u'\\u0906', u'\\u092f', u'\\u093e', u'\\u0925', u'\\u093e', u'\\u092a', u'\\u0930', u'\\u092f', u'\\u0939', u'\\u093e', u'\\u0902', u'\\u0906', u'\\u092e', u'\\u0906', u'\\u0926', u'\\u092e', u'\\u0940', u'\\u092a', u'\\u093e', u'\\u0930', u'\\u094d', u'\\u091f', u'\\u0940', u'\\u0915', u'\\u0947', u'\\u0908', u'\\u0935', u'\\u0940', u'\\u090f', u'\\u092e', u'\\u0939', u'\\u0948', u'\\u0915', u'\\u0930', u'\\u094d', u'\\u0938', u'\\u0915', u'\\u094b', u'\\u0926', u'\\u0947', u'\\u0916', u'\\u0915', u'\\u0930', u'\\u0921', u'\\u0930', u'\\u0915', u'\\u0947', u'\\u092e', u'\\u093e', u'\\u0930', u'\\u0947', u'\\u0935', u'\\u093e', u'\\u092a', u'\\u093f', u'\\u0938', u'\\u092d', u'\\u093e', u'\\u0917', u'\\u0917', u'\\u092f', u'\\u093e', u'.', u'.', u'\\u270d', u'\\U0001f609']\n",
      "[u'RT', u'@NigeriaNewsdesk', u':', u'French', u'researchers', u'find', u'way', u'to', u'unlock', u'ransomeware', u'without', u'payment', u'https://t.co/aO1oIZrP0J', u'via', u'@todayng', u'https://t.co/cp', u'\\u2026']\n",
      "[u'RT', u'@SHEKHARJHA1', u':', u'Ransomeware', u'\\u0935', u'\\u093e', u'\\u092f', u'\\u0930', u'\\u0938', u'\\u092d', u'\\u093e', u'\\u0930', u'\\u0924', u'\\u092e', u'\\u0947', u'\\u092d', u'\\u0940', u'\\u0905', u'\\u091f', u'\\u0948', u'\\u0915', u'\\u0915', u'\\u0930', u'\\u0928', u'\\u0947', u'\\u0906', u'\\u092f', u'\\u093e', u'\\u0925', u'\\u093e', u'\\u092a', u'\\u0930', u'\\u092f', u'\\u0939', u'\\u093e', u'\\u0902', u'\\u0906', u'\\u092e', u'\\u0906', u'\\u0926', u'\\u092e', u'\\u0940', u'\\u092a', u'\\u093e', u'\\u0930', u'\\u094d', u'\\u091f', u'\\u0940', u'\\u0915', u'\\u0947', u'\\u0908', u'\\u0935', u'\\u0940', u'\\u090f', u'\\u092e', u'\\u0939', u'\\u0948', u'\\u0915', u'\\u0930', u'\\u094d', u'\\u0938', u'\\u0915', u'\\u094b', u'\\u0926', u'\\u0947', u'\\u0916', u'\\u0915', u'\\u0930', u'\\u0921', u'\\u0930', u'\\u0915', u'\\u0947', u'\\u092e', u'\\u093e', u'\\u0930', u'\\u0947', u'\\u0935', u'\\u093e', u'\\u092a', u'\\u093f', u'\\u0938', u'\\u092d', u'\\u093e', u'\\u0917', u'\\u0917', u'\\u092f', u'\\u093e', u'.', u'.', u'\\u270d', u'\\U0001f609']\n",
      "[u'Microsoft', u'releases', u'Windows', u'XP', u'patch', u'for', u'WannaCrypt', u'ransomware', u'https://t.co/t22kQBt923', u'#security', u'#cybersecurity', u'\\u2026', u'https://t.co/wlvSEvQ65S']\n",
      "[u'RT', u'@NigeriaNewsdesk', u':', u'French', u'researchers', u'find', u'way', u'to', u'unlock', u'ransomeware', u'without', u'payment', u'https://t.co/aO1oIZrP0J', u'via', u'@todayng', u'https://t.co/cp', u'\\u2026']\n",
      "[u'RT', u'@AfricaData', u':', u'RANSOMEWARE', u'?', u'Put', u'some', u'IRON', u'into', u'your', u'back-up', u'and', u'beat', u'malicious', u'virals', u'to', u'a', u'pile', u'of', u'dust', u'RIGHT', u'NOW', u'#IronTree', u'\\u2026']\n",
      "[u'25', u'pcs', u'hs', u'effected', u'by', u'#ransomeware', u'at', u'Kota', u'railway', u'Region', u'.', u'Thanx', u'to', u'@narendramodi', u'n', u'@sureshpprabhu', u'for', u'#DigitalIndia']\n",
      "[u'RT', u'@SHEKHARJHA1', u':', u'Ransomeware', u'\\u0935', u'\\u093e', u'\\u092f', u'\\u0930', u'\\u0938', u'\\u092d', u'\\u093e', u'\\u0930', u'\\u0924', u'\\u092e', u'\\u0947', u'\\u092d', u'\\u0940', u'\\u0905', u'\\u091f', u'\\u0948', u'\\u0915', u'\\u0915', u'\\u0930', u'\\u0928', u'\\u0947', u'\\u0906', u'\\u092f', u'\\u093e', u'\\u0925', u'\\u093e', u'\\u092a', u'\\u0930', u'\\u092f', u'\\u0939', u'\\u093e', u'\\u0902', u'\\u0906', u'\\u092e', u'\\u0906', u'\\u0926', u'\\u092e', u'\\u0940', u'\\u092a', u'\\u093e', u'\\u0930', u'\\u094d', u'\\u091f', u'\\u0940', u'\\u0915', u'\\u0947', u'\\u0908', u'\\u0935', u'\\u0940', u'\\u090f', u'\\u092e', u'\\u0939', u'\\u0948', u'\\u0915', u'\\u0930', u'\\u094d', u'\\u0938', u'\\u0915', u'\\u094b', u'\\u0926', u'\\u0947', u'\\u0916', u'\\u0915', u'\\u0930', u'\\u0921', u'\\u0930', u'\\u0915', u'\\u0947', u'\\u092e', u'\\u093e', u'\\u0930', u'\\u0947', u'\\u0935', u'\\u093e', u'\\u092a', u'\\u093f', u'\\u0938', u'\\u092d', u'\\u093e', u'\\u0917', u'\\u0917', u'\\u092f', u'\\u093e', u'.', u'.', u'\\u270d', u'\\U0001f609']\n",
      "[u'RT', u'@Sadhu_DD', u':', u'#Ransomeware', u'ko', u'to', u'rok', u'loge', u',', u'par', u'is', u'dhinchak', u'pooja', u'jaise', u'virus', u'ko', u'kaise', u'rokoge', u'.', u'.', u'.', u'.', u'.']\n",
      "[u'@SirPareshRawal', u'Ransomeware', u'se', u'hum', u'bhartiya', u'nahi', u'derte', u'kyon', u'ki', u'hum', u'maggi', u'naam', u'ka', u'udsse', u'bada', u'virus', u'pichhle', u'teen', u'saalon', u'se', u'jhel', u'rahe', u'hai', u'.', u'.', u'.', u'.', u'.']\n",
      "[u'Surefire', u'anti-RANSOMEWARE', u'LOSS', u'prevention', u'=', u'IRONTREE', u'@AfricaData', u'https://t.co/6zXM9fQbsR']\n",
      "[u'WannaCry', u':', u'How', u'the', u'ransomware', u'attack', u'affected', u'India', u'&', u'amp', u';', u'what', u'should', u'be', u'done', u'to', u'prevent', u'a', u'repeat', u'hit', u'https://t.co/GnkO7aLfB8', u'via', u'@scroll_in', u'App']\n"
     ]
    }
   ],
   "source": [
    "with open('Ransomeware.json', 'r') as f:\n",
    "#import io\n",
    "#f=io.open('data/stream_barcelona.json', 'r', encoding='utf8' )\n",
    "     for line in f:\n",
    "        tweet = json.loads(line)\n",
    "        tokens = preprocess(tweet['text'])\n",
    "        print(tokens)"
   ]
  },
  {
   "cell_type": "markdown",
   "metadata": {},
   "source": [
    "# Print the most popular tweets in that file"
   ]
  },
  {
   "cell_type": "code",
   "execution_count": 7,
   "metadata": {
    "collapsed": false
   },
   "outputs": [
    {
     "name": "stdout",
     "output_type": "stream",
     "text": [
      "[u'Ransomeware', u'Cyber-Attacks', u'Has', u'Stunned', u'The', u'Entire', u'\\xa0', u'World', u'https://t.co/c7AYuqKx3G', u'https://t.co/80tBUaEVvS']\n",
      "[u'&', u'lt', u';', u'&', u'lt', u';', u'research', u'shows', u'a', u'spike', u'of', u'.', u'.', u'.', u'1,000', u'%', u'in', u'Android', u'ransomware', u'.', u'&', u'gt', u';', u'&', u'gt', u';', u'https://t.co/wVW7eZegNZ', u'https://t.co/IkmX0tn1BX']\n",
      "[u'\\u039c', u'\\u03b5', u'\\u03c1', u'\\u03b9', u'\\u03ba', u'\\u03ae', u'\\u03bb', u'\\u03cd', u'\\u03c3', u'\\u03b7', u'\\u03b1', u'\\u03bd', u'\\u03ad', u'\\u03c7', u'\\u03bf', u'\\u03c5', u'\\u03bd', u'\\u03bc', u'\\u03bf', u'\\u03bb', u'\\u03c5', u'\\u03bd', u'\\u03b8', u'\\u03b5', u'\\u03af', u'\\u03c4', u'\\u03b1', u'\\u03b1', u'\\u03c1', u'\\u03c7', u'\\u03b5', u'\\u03af', u'\\u03b1', u'\\u03c3', u'\\u03b1', u'\\u03c2', u'\\u03b1', u'\\u03c0', u'\\u03cc', u'\\u03c4', u'\\u03bf', u'#WannaCry', u'#ransomeware', u'\\u039c', u'\\u03b7', u'\\u03bd', u'\\u03ba', u'\\u03ac', u'\\u03bd', u'\\u03b5', u'\\u03c4', u'\\u03b5', u'\\u03b5', u'\\u03c0', u'\\u03b1', u'\\u03bd', u'\\u03b5', u'\\u03ba', u'\\u03ba', u'\\u03af', u'\\u03bd', u'\\u03b7', u'\\u03c3', u'\\u03b7', u'\\u03ba', u'\\u03b1', u'\\u03b9', u'\\u03b1', u'\\u03ba', u'\\u03bf', u'\\u03bb', u'\\u03bf', u'\\u03c5', u'\\u03b8', u'\\u03b5', u'\\u03af', u'\\u03c3', u'\\u03c4', u'\\u03b5', u'\\u2026', u'https://t.co/oazrlYrfZ8']\n",
      "[u'Ransomeware', u'affects', u'Th', u'\\xed', u'rupath', u'\\xed', u'Devasthana', u'C', u'https://t.co/khnBWVxAT3', u'TECH', u'-', u'COMPUTERS', u'#affects', u'#computers', u'#devasthana', u'CLASSIFIEDS', u'ADS', u'GRATIS']\n",
      "[u'Arundhati', u\"Roy's\", u'Top', u'Floor', u'Machine', u'is', u'the', u'latest', u'victim', u'of', u'Wannacry', u'Ransomeware', u'\\U0001f602', u'Her', u'Brain', u'was', u'uplinked', u'to', u'China', u',', u'w', u'\\u2026', u'https://t.co/2OwipLyVwA']\n",
      "[u'RT', u'@liliputingnews', u':', u'Do', u'not', u'reboot', u'your', u'PC', u'if', u'you', u'get', u'WannaCry', u'ransomeware', u'\\u2013', u'try', u'this', u'\\xa0', u'instead', u'https://t.co/mWstslIC1j', u'https://t.co/A0f0XeR3Iv']\n",
      "[u'North', u'Korea', u'Might', u'Be', u'Behind', u'WannaCry', u\"'\", u'Ransomeware', u\"'\", u'hacks', u'|', u'Metro', u'.', u'us', u'.', u'.', u'Related', u'Articles', u':', u'https://t.co/RAGIVDzUmg']\n",
      "[u'You', u'Can', u'Now', u'Decrypt', u'Or', u'Patch', u'WannaCry', u'Ransomeware', u'Attack', u'On', u'Windows', u',', u'Sort', u'\\xa0', u'Of', u'https://t.co/02G4j5lGgt', u'https://t.co/SN7LG57lcc']\n",
      "[u'Kaspersky', u'Ransomeware', u'Coinvault', u'Virus', u'Support', u'https://t.co/S928Kjfoj6', u'via', u'@YouTube']\n",
      "[u'\\U0001f4a5', u'\\U0001f4a5', u'\\U0001f4a5', u'\\U0001f4a5', u'\\U0001f4a5', u'\\U0001f4a5', u'\\U0001f4a5', u'\\U0001f4a5', u'\\U0001f4a5', u'\\U0001f4a5', u'\\U0001f4a5', u'sharing', u'I', u'like', u'this', u'name', u'*', u\"'\", u'Ransomeware', u'VIRUS', u\"'\", u'*', u'which', u'shook', u'the', u'software', u'/', u'computer', u'world', u'for', u'the', u'past', u'.', u'.', u'.', u'https://t.co/YUPQG8Ho2R']\n",
      "[u'RT', u'@verge', u':', u'After', u'WannaCry', u',', u'a', u'new', u'bill', u'would', u'force', u'the', u'NSA', u'to', u'justify', u'its', u'hacking', u'tools', u'https://t.co/SNrBhOId3d', u'https://t.co/bTD5XcDhvk']\n",
      "[u'Ransomeware', u'\\u0935', u'\\u093e', u'\\u092f', u'\\u0930', u'\\u0938', u'\\u092d', u'\\u093e', u'\\u0930', u'\\u0924', u'\\u092e', u'\\u0947', u'\\u092d', u'\\u0940', u'\\u0905', u'\\u091f', u'\\u0948', u'\\u0915', u'\\u0915', u'\\u0930', u'\\u0928', u'\\u0947', u'\\u0906', u'\\u092f', u'\\u093e', u'\\u0925', u'\\u093e', u'\\u092a', u'\\u0930', u'\\u092f', u'\\u0939', u'\\u093e', u'\\u0902', u'\\u0906', u'\\u092e', u'\\u0906', u'\\u0926', u'\\u092e', u'\\u0940', u'\\u092a', u'\\u093e', u'\\u0930', u'\\u094d', u'\\u091f', u'\\u0940', u'\\u0915', u'\\u0947', u'\\u0908', u'\\u0935', u'\\u0940', u'\\u090f', u'\\u092e', u'\\u0939', u'\\u0948', u'\\u0915', u'\\u0930', u'\\u094d', u'\\u0938', u'\\u0915', u'\\u094b', u'\\u0926', u'\\u0947', u'\\u0916', u'\\u0915', u'\\u0930', u'\\u0921', u'\\u0930', u'\\u0915', u'\\u0947', u'\\u092e', u'\\u093e', u'\\u0930', u'\\u0947', u'\\u0935', u'\\u093e', u'\\u092a', u'\\u093f', u'\\u0938', u'\\u092d', u'\\u093e', u'\\u0917', u'\\u0917', u'\\u092f', u'\\u093e', u'.', u'.', u'\\u270d', u'\\U0001f609']\n",
      "[u'RT', u'@EtvOdiaNews', u':', u'#Nayagarh', u'\\u0b36', u'\\u0b30', u'\\u0b23', u'\\u0b15', u'\\u0b42', u'\\u0b33', u'\\u0b2c', u'\\u0b1c', u'\\u0b3e', u'\\u0b30', u'\\u0b38', u'\\u0b4d', u'\\u0b25', u'\\u0b3f', u'\\u0b24', u'\\u0b2b', u'\\u0b1f', u'\\u0b4b', u'\\u0b37', u'\\u0b4d', u'\\u0b1f', u'\\u0b41', u'\\u0b21', u'\\u0b3f', u'\\u0b13', u'\\u0b15', u'\\u0b2e', u'\\u0b4d', u'\\u0b2a', u'\\u0b4d', u'\\u0b5f', u'\\u0b41', u'\\u0b1f', u'\\u0b30', u'\\u0b15', u'\\u0b41', u'#Ransomeware', u'#VirusAttack', u'#Odisha']\n",
      "[u'RT', u'@SHEKHARJHA1', u':', u'Ransomeware', u'\\u0935', u'\\u093e', u'\\u092f', u'\\u0930', u'\\u0938', u'\\u092d', u'\\u093e', u'\\u0930', u'\\u0924', u'\\u092e', u'\\u0947', u'\\u092d', u'\\u0940', u'\\u0905', u'\\u091f', u'\\u0948', u'\\u0915', u'\\u0915', u'\\u0930', u'\\u0928', u'\\u0947', u'\\u0906', u'\\u092f', u'\\u093e', u'\\u0925', u'\\u093e', u'\\u092a', u'\\u0930', u'\\u092f', u'\\u0939', u'\\u093e', u'\\u0902', u'\\u0906', u'\\u092e', u'\\u0906', u'\\u0926', u'\\u092e', u'\\u0940', u'\\u092a', u'\\u093e', u'\\u0930', u'\\u094d', u'\\u091f', u'\\u0940', u'\\u0915', u'\\u0947', u'\\u0908', u'\\u0935', u'\\u0940', u'\\u090f', u'\\u092e', u'\\u0939', u'\\u0948', u'\\u0915', u'\\u0930', u'\\u094d', u'\\u0938', u'\\u0915', u'\\u094b', u'\\u0926', u'\\u0947', u'\\u0916', u'\\u0915', u'\\u0930', u'\\u0921', u'\\u0930', u'\\u0915', u'\\u0947', u'\\u092e', u'\\u093e', u'\\u0930', u'\\u0947', u'\\u0935', u'\\u093e', u'\\u092a', u'\\u093f', u'\\u0938', u'\\u092d', u'\\u093e', u'\\u0917', u'\\u0917', u'\\u092f', u'\\u093e', u'.', u'.', u'\\u270d', u'\\U0001f609']\n",
      "[u'RT', u'@NigeriaNewsdesk', u':', u'French', u'researchers', u'find', u'way', u'to', u'unlock', u'ransomeware', u'without', u'payment', u'https://t.co/aO1oIZrP0J', u'via', u'@todayng', u'https://t.co/cp', u'\\u2026']\n",
      "[u'RT', u'@SHEKHARJHA1', u':', u'Ransomeware', u'\\u0935', u'\\u093e', u'\\u092f', u'\\u0930', u'\\u0938', u'\\u092d', u'\\u093e', u'\\u0930', u'\\u0924', u'\\u092e', u'\\u0947', u'\\u092d', u'\\u0940', u'\\u0905', u'\\u091f', u'\\u0948', u'\\u0915', u'\\u0915', u'\\u0930', u'\\u0928', u'\\u0947', u'\\u0906', u'\\u092f', u'\\u093e', u'\\u0925', u'\\u093e', u'\\u092a', u'\\u0930', u'\\u092f', u'\\u0939', u'\\u093e', u'\\u0902', u'\\u0906', u'\\u092e', u'\\u0906', u'\\u0926', u'\\u092e', u'\\u0940', u'\\u092a', u'\\u093e', u'\\u0930', u'\\u094d', u'\\u091f', u'\\u0940', u'\\u0915', u'\\u0947', u'\\u0908', u'\\u0935', u'\\u0940', u'\\u090f', u'\\u092e', u'\\u0939', u'\\u0948', u'\\u0915', u'\\u0930', u'\\u094d', u'\\u0938', u'\\u0915', u'\\u094b', u'\\u0926', u'\\u0947', u'\\u0916', u'\\u0915', u'\\u0930', u'\\u0921', u'\\u0930', u'\\u0915', u'\\u0947', u'\\u092e', u'\\u093e', u'\\u0930', u'\\u0947', u'\\u0935', u'\\u093e', u'\\u092a', u'\\u093f', u'\\u0938', u'\\u092d', u'\\u093e', u'\\u0917', u'\\u0917', u'\\u092f', u'\\u093e', u'.', u'.', u'\\u270d', u'\\U0001f609']\n",
      "[u'Microsoft', u'releases', u'Windows', u'XP', u'patch', u'for', u'WannaCrypt', u'ransomware', u'https://t.co/t22kQBt923', u'#security', u'#cybersecurity', u'\\u2026', u'https://t.co/wlvSEvQ65S']\n",
      "[u'RT', u'@NigeriaNewsdesk', u':', u'French', u'researchers', u'find', u'way', u'to', u'unlock', u'ransomeware', u'without', u'payment', u'https://t.co/aO1oIZrP0J', u'via', u'@todayng', u'https://t.co/cp', u'\\u2026']\n",
      "[u'RT', u'@AfricaData', u':', u'RANSOMEWARE', u'?', u'Put', u'some', u'IRON', u'into', u'your', u'back-up', u'and', u'beat', u'malicious', u'virals', u'to', u'a', u'pile', u'of', u'dust', u'RIGHT', u'NOW', u'#IronTree', u'\\u2026']\n",
      "[u'25', u'pcs', u'hs', u'effected', u'by', u'#ransomeware', u'at', u'Kota', u'railway', u'Region', u'.', u'Thanx', u'to', u'@narendramodi', u'n', u'@sureshpprabhu', u'for', u'#DigitalIndia']\n",
      "[u'RT', u'@SHEKHARJHA1', u':', u'Ransomeware', u'\\u0935', u'\\u093e', u'\\u092f', u'\\u0930', u'\\u0938', u'\\u092d', u'\\u093e', u'\\u0930', u'\\u0924', u'\\u092e', u'\\u0947', u'\\u092d', u'\\u0940', u'\\u0905', u'\\u091f', u'\\u0948', u'\\u0915', u'\\u0915', u'\\u0930', u'\\u0928', u'\\u0947', u'\\u0906', u'\\u092f', u'\\u093e', u'\\u0925', u'\\u093e', u'\\u092a', u'\\u0930', u'\\u092f', u'\\u0939', u'\\u093e', u'\\u0902', u'\\u0906', u'\\u092e', u'\\u0906', u'\\u0926', u'\\u092e', u'\\u0940', u'\\u092a', u'\\u093e', u'\\u0930', u'\\u094d', u'\\u091f', u'\\u0940', u'\\u0915', u'\\u0947', u'\\u0908', u'\\u0935', u'\\u0940', u'\\u090f', u'\\u092e', u'\\u0939', u'\\u0948', u'\\u0915', u'\\u0930', u'\\u094d', u'\\u0938', u'\\u0915', u'\\u094b', u'\\u0926', u'\\u0947', u'\\u0916', u'\\u0915', u'\\u0930', u'\\u0921', u'\\u0930', u'\\u0915', u'\\u0947', u'\\u092e', u'\\u093e', u'\\u0930', u'\\u0947', u'\\u0935', u'\\u093e', u'\\u092a', u'\\u093f', u'\\u0938', u'\\u092d', u'\\u093e', u'\\u0917', u'\\u0917', u'\\u092f', u'\\u093e', u'.', u'.', u'\\u270d', u'\\U0001f609']\n",
      "[u'RT', u'@Sadhu_DD', u':', u'#Ransomeware', u'ko', u'to', u'rok', u'loge', u',', u'par', u'is', u'dhinchak', u'pooja', u'jaise', u'virus', u'ko', u'kaise', u'rokoge', u'.', u'.', u'.', u'.', u'.']\n",
      "[u'@SirPareshRawal', u'Ransomeware', u'se', u'hum', u'bhartiya', u'nahi', u'derte', u'kyon', u'ki', u'hum', u'maggi', u'naam', u'ka', u'udsse', u'bada', u'virus', u'pichhle', u'teen', u'saalon', u'se', u'jhel', u'rahe', u'hai', u'.', u'.', u'.', u'.', u'.']\n",
      "[u'Surefire', u'anti-RANSOMEWARE', u'LOSS', u'prevention', u'=', u'IRONTREE', u'@AfricaData', u'https://t.co/6zXM9fQbsR']\n",
      "[u'WannaCry', u':', u'How', u'the', u'ransomware', u'attack', u'affected', u'India', u'&', u'amp', u';', u'what', u'should', u'be', u'done', u'to', u'prevent', u'a', u'repeat', u'hit', u'https://t.co/GnkO7aLfB8', u'via', u'@scroll_in', u'App']\n"
     ]
    }
   ],
   "source": [
    "with open('Ransomeware.json', 'r') as f:\n",
    "#import io\n",
    "#f=io.open('data/stream_barcelona.json', 'r', encoding='utf8' )\n",
    "     for line in f:\n",
    "        tweet = json.loads(line)\n",
    "        tokens = preprocess(tweet['text'])\n",
    "        print(tokens)"
   ]
  },
  {
   "cell_type": "markdown",
   "metadata": {},
   "source": []
  },
  {
   "cell_type": "code",
   "execution_count": 8,
   "metadata": {
    "collapsed": false
   },
   "outputs": [
    {
     "name": "stdout",
     "output_type": "stream",
     "text": [
      "[nltk_data] Downloading package stopwords to /home/chetan/nltk_data...\n",
      "[nltk_data]   Package stopwords is already up-to-date!\n"
     ]
    }
   ],
   "source": [
    "import nltk\n",
    "from nltk.corpus import stopwords\n",
    "nltk.download(\"stopwords\") # download the stopword corpus on our computer\n",
    "import string\n",
    " \n",
    "punctuation = list(string.punctuation)\n",
    "stop = stopwords.words('english') + punctuation + ['rt', 'via', 'RT']"
   ]
  },
  {
   "cell_type": "markdown",
   "metadata": {},
   "source": []
  },
  {
   "cell_type": "code",
   "execution_count": 11,
   "metadata": {
    "collapsed": false
   },
   "outputs": [
    {
     "name": "stdout",
     "output_type": "stream",
     "text": [
      "ा : 40\n",
      "र : 36\n",
      "क : 28\n",
      "े : 24\n",
      "म : 20\n"
     ]
    }
   ],
   "source": [
    "import operator \n",
    "import json\n",
    "from collections import Counter\n",
    " \n",
    "fname = 'Ransomeware.json'\n",
    "with open(fname, 'r') as f:\n",
    "    count_all = Counter()\n",
    "    for line in f:\n",
    "        tweet = json.loads(line)\n",
    "        # Create a list with all the terms\n",
    "        terms_stop = [term for term in preprocess(tweet['text']) if term not in stop]\n",
    "        count_all.update(terms_stop)\n",
    "    for word, index in count_all.most_common(5):\n",
    "        print '%s : %s' % (word, index)"
   ]
  },
  {
   "cell_type": "markdown",
   "metadata": {},
   "source": []
  },
  {
   "cell_type": "code",
   "execution_count": 12,
   "metadata": {
    "collapsed": true
   },
   "outputs": [],
   "source": [
    "terms_hash = [term for term in preprocess(tweet['text']) \n",
    "              if term.startswith('#')]"
   ]
  },
  {
   "cell_type": "code",
   "execution_count": 13,
   "metadata": {
    "collapsed": true
   },
   "outputs": [],
   "source": [
    "terms_only = [term for term in preprocess(tweet['text']) \n",
    "              if term not in stop and\n",
    "              not term.startswith(('#', '@'))] "
   ]
  },
  {
   "cell_type": "markdown",
   "metadata": {},
   "source": [
    "# collect the most popular words i the json file \n",
    "this will search in and print the most popular 10 words from the json file that we have generated. 10 different words and the repetation upto 15 times."
   ]
  },
  {
   "cell_type": "code",
   "execution_count": null,
   "metadata": {
    "collapsed": true
   },
   "outputs": [],
   "source": [
    "import operator \n",
    "import json\n",
    "from collections import Counter\n",
    " \n",
    "fname = 'Ransomeware.json'\n",
    "with open(fname, 'r') as f:\n",
    "    count_all = Counter()\n",
    "    for line in f:\n",
    "        tweet = json.loads(line)\n",
    "        # Create a list with all the terms\n",
    "        terms_hash = [term for term in preprocess(tweet['text']) if term.startswith('#') and term not in stop]        \n",
    "        count_all.update(terms_hash)\n",
    "# Print the first 10 most frequent words\n",
    "print(count_all.most_common(15))"
   ]
  },
  {
   "cell_type": "markdown",
   "metadata": {},
   "source": [
    "# print (plot) a bar graph from the selected words from the above code"
   ]
  },
  {
   "cell_type": "code",
   "execution_count": null,
   "metadata": {
    "collapsed": true
   },
   "outputs": [],
   "source": [
    "%matplotlib inline\n",
    "import matplotlib as mpl\n",
    "mpl.rcParams['figure.figsize'] = (15,10)\n",
    "import matplotlib.pyplot as plt\n",
    "\n",
    "sorted_x, sorted_y = zip(*count_all.most_common(15))\n",
    "#print(sorted_x, sorted_y)\n",
    "\n",
    "plt.bar(range(len(sorted_x)), sorted_y, width=0.75, align='center');\n",
    "plt.xticks(range(len(sorted_x)), sorted_x, rotation=80);\n",
    "plt.axis('tight'); "
   ]
  }
 ],
 "metadata": {
  "kernelspec": {
   "display_name": "Python 2",
   "language": "python",
   "name": "python2"
  },
  "language_info": {
   "codemirror_mode": {
    "name": "ipython",
    "version": 2
   },
   "file_extension": ".py",
   "mimetype": "text/x-python",
   "name": "python",
   "nbconvert_exporter": "python",
   "pygments_lexer": "ipython2",
   "version": "2.7.13"
  }
 },
 "nbformat": 4,
 "nbformat_minor": 2
}
