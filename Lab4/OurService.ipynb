{
 "cells": [
  {
   "cell_type": "code",
   "execution_count": null,
   "metadata": {
    "collapsed": false,
    "scrolled": true
   },
   "outputs": [
    {
     "name": "stdout",
     "output_type": "stream",
     "text": [
      "Started my REST API on port 8954\n"
     ]
    },
    {
     "name": "stderr",
     "output_type": "stream",
     "text": [
      "127.0.0.1 - - [19/May/2017 13:07:42] \"GET /term_freq.json HTTP/1.1\" 200 -\n",
      "127.0.0.1 - - [19/May/2017 13:07:45] \"GET / HTTP/1.1\" 200 -\n",
      "127.0.0.1 - - [19/May/2017 13:08:56] \"GET / HTTP/1.1\" 200 -\n",
      "127.0.0.1 - - [19/May/2017 13:08:56] \"GET / HTTP/1.1\" 200 -\n",
      "127.0.0.1 - - [19/May/2017 13:08:59] \"GET / HTTP/1.1\" 200 -\n",
      "127.0.0.1 - - [19/May/2017 13:09:36] \"GET / HTTP/1.1\" 200 -\n",
      "127.0.0.1 - - [19/May/2017 13:09:38] \"GET / HTTP/1.1\" 200 -\n",
      "127.0.0.1 - - [19/May/2017 13:09:40] \"GET / HTTP/1.1\" 200 -\n",
      "127.0.0.1 - - [19/May/2017 13:09:41] \"GET / HTTP/1.1\" 200 -\n",
      "127.0.0.1 - - [19/May/2017 13:11:03] \"GET / HTTP/1.1\" 200 -\n",
      "127.0.0.1 - - [19/May/2017 13:11:04] \"GET /geo_data.json HTTP/1.1\" 200 -\n",
      "127.0.0.1 - - [19/May/2017 13:11:04] code 404, message File not found\n",
      "127.0.0.1 - - [19/May/2017 13:11:04] \"GET /docs/images/favicon.ico HTTP/1.1\" 404 -\n",
      "127.0.0.1 - - [19/May/2017 13:12:34] \"GET / HTTP/1.1\" 200 -\n",
      "127.0.0.1 - - [19/May/2017 13:12:34] \"GET /geo_data.json HTTP/1.1\" 200 -\n"
     ]
    }
   ],
   "source": [
    "#!/usr/bin/env python\n",
    "import SimpleHTTPServer\n",
    "import SocketServer\n",
    "\n",
    "class MyRequestHandler(SimpleHTTPServer.SimpleHTTPRequestHandler):\n",
    "    def do_GET(self):\n",
    "        if self.path == '/':\n",
    "            self.path = '/geo.html'\n",
    "        return SimpleHTTPServer.SimpleHTTPRequestHandler.do_GET(self)\n",
    "\n",
    "Handler = MyRequestHandler\n",
    "server = SocketServer.TCPServer(('0.0.0.0', 8954), Handler)\n",
    "\n",
    "print 'Started my REST API on port 8954' \n",
    "server.serve_forever()"
   ]
  },
  {
   "cell_type": "code",
   "execution_count": null,
   "metadata": {
    "collapsed": true
   },
   "outputs": [],
   "source": []
  },
  {
   "cell_type": "code",
   "execution_count": null,
   "metadata": {
    "collapsed": true
   },
   "outputs": [],
   "source": []
  }
 ],
 "metadata": {
  "kernelspec": {
   "display_name": "Python 2",
   "language": "python",
   "name": "python2"
  },
  "language_info": {
   "codemirror_mode": {
    "name": "ipython",
    "version": 2
   },
   "file_extension": ".py",
   "mimetype": "text/x-python",
   "name": "python",
   "nbconvert_exporter": "python",
   "pygments_lexer": "ipython2",
   "version": "2.7.13"
  }
 },
 "nbformat": 4,
 "nbformat_minor": 2
}
