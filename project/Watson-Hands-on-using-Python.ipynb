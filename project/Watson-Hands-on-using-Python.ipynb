{
 "cells": [
  {
   "cell_type": "markdown",
   "metadata": {
    "collapsed": true
   },
   "source": [
    "In the following example we are going to reply what we created by means of the IBM Bluemix Watson Conversation tool interface. In order to do that we have leverage an [external library](https://github.com/watson-developer-cloud/python-sdk) (not provided by IBM) available in GitHub. This library encapsulates the POST, GET, DELETE, etc. messages used to communicate with the [Watson REST API web service](https://watson-api-explorer.mybluemix.net/apis/conversation-v1). \n",
    "\n",
    "First we need to install the Watson API that encapsulates the calls to the API REST. Open a command line an write:\n",
    ">pip install --upgrade watson-developer-cloud\n",
    "\n",
    "The, we need to log in the conversation with our username and password credentials. This credentials are not the same ones that we may use to log in Bluemix, but the ones we can find in Left panel -> Services -> Watson -> click in the previously created conversation service -> Service credential -> View credentials. We need to copy the correspoding username and password, leaving the version field as it indicated. It is very important since it define the version of the API you are going to use. Some old (one year ago) versions were in development at that time an some features will not work for them. We found issues with that when trying to create synonyms for entities (see below) until we notice it."
   ]
  },
  {
   "cell_type": "code",
   "execution_count": null,
   "metadata": {
    "collapsed": true
   },
   "outputs": [],
   "source": [
    "import json\n",
    "from watson_developer_cloud import ConversationV1\n",
    "\n",
    "username = 'd7034d4a-c2a7-4ab6-a00f-464d8c70491e'\n",
    "password = '3zLBNNznNdYd'\n",
    "\n",
    "#username='YOUR-WATSON-API-USERNAME'\n",
    "#password='YOUR-WATSON-API-PASSWORD'\n",
    "\n",
    "conversation = ConversationV1(\n",
    "    username=username,\n",
    "    password=password,\n",
    "    version='2017-05-26')"
   ]
  },
  {
   "cell_type": "markdown",
   "metadata": {},
   "source": [
    "First, we need to create the workspace (Python workspace):"
   ]
  },
  {
   "cell_type": "code",
   "execution_count": 2,
   "metadata": {
    "collapsed": false
   },
   "outputs": [
    {
     "name": "stdout",
     "output_type": "stream",
     "text": [
      "{\n",
      "    \"status\": \"Available\", \n",
      "    \"intents\": [], \n",
      "    \"name\": \"Python workspace\", \n",
      "    \"language\": \"en\", \n",
      "    \"created\": \"2017-06-19T18:29:56.085Z\", \n",
      "    \"workspace_id\": \"4960de2c-6cdb-4dd2-a8a3-1370b6c302e9\", \n",
      "    \"description\": \"Test workspace for Python Hands-on.\", \n",
      "    \"updated\": \"2017-06-19T18:29:56.085Z\", \n",
      "    \"entities\": [], \n",
      "    \"counterexamples\": [], \n",
      "    \"dialog_nodes\": [], \n",
      "    \"metadata\": {}\n",
      "}\n"
     ]
    }
   ],
   "source": [
    "response = conversation.create_workspace(name='Python workspace',\n",
    "                                         description='Test workspace for Python Hands-on.',\n",
    "                                         language='en',\n",
    "                                         metadata={})\n",
    "\n",
    "workspace_id = response['workspace_id']\n",
    "\n",
    "response = conversation.get_workspace(workspace_id=workspace_id, export=True)\n",
    "print(json.dumps(response, indent=4))"
   ]
  },
  {
   "cell_type": "markdown",
   "metadata": {},
   "source": [
    "Notice that if we execute a chunk of code creating some object (workspace, intent, etc.) with the same name/ID, an error will be raised. We can use the delete operations available in the library or delete those test we need by means of the Bluemix graphical interface. For instance, for a conversation object it would be:"
   ]
  },
  {
   "cell_type": "code",
   "execution_count": 3,
   "metadata": {
    "collapsed": false
   },
   "outputs": [
    {
     "data": {
      "text/plain": [
       "{}"
      ]
     },
     "execution_count": 3,
     "metadata": {},
     "output_type": "execute_result"
    }
   ],
   "source": [
    "conversation.delete_workspace(workspace_id=workspace_id)"
   ]
  },
  {
   "cell_type": "markdown",
   "metadata": {},
   "source": [
    "The 'delete' methods for intents, entities, etc. have the same form, but adding the corresponding object ID, besides the workspace ID in which it was created. There is some [incomplete documentation](https://www.ibm.com/watson/developercloud/conversation/api/v1/?python) available at the IBM web page. The way we have explored the API is looking examples in the very same GitHub repository ([/examples/conversation_v1.py](https://github.com/watson-developer-cloud/python-sdk/blob/master/examples/conversation_v1.py) and [/watson_developer_cloud/conversation_v1.py](https://github.com/watson-developer-cloud/python-sdk/blob/master/watson_developer_cloud/conversation_v1.py) files)\n",
    "\n",
    "We create it again so as to continue with the example:"
   ]
  },
  {
   "cell_type": "code",
   "execution_count": 4,
   "metadata": {
    "collapsed": true
   },
   "outputs": [],
   "source": [
    "response = conversation.create_workspace(name='Python workspace',\n",
    "                                         description='Test workspace for Python Hands-on.',\n",
    "                                         language='en',\n",
    "                                         metadata={})\n",
    "\n",
    "workspace_id = response['workspace_id']"
   ]
  },
  {
   "cell_type": "markdown",
   "metadata": {},
   "source": [
    "Now we create the intents and their examples:"
   ]
  },
  {
   "cell_type": "code",
   "execution_count": 5,
   "metadata": {
    "collapsed": false
   },
   "outputs": [
    {
     "name": "stdout",
     "output_type": "stream",
     "text": [
      "{\n",
      "    \"updated\": \"2017-06-19T18:30:09.517Z\", \n",
      "    \"description\": \"Python intent 1.\", \n",
      "    \"intent\": \"hello\", \n",
      "    \"examples\": [\n",
      "        {\n",
      "            \"text\": \"Hello!\", \n",
      "            \"updated\": \"2017-06-19T18:30:05.442Z\", \n",
      "            \"created\": \"2017-06-19T18:30:05.442Z\"\n",
      "        }, \n",
      "        {\n",
      "            \"text\": \"Good morning.\", \n",
      "            \"updated\": \"2017-06-19T18:30:06.452Z\", \n",
      "            \"created\": \"2017-06-19T18:30:06.452Z\"\n",
      "        }, \n",
      "        {\n",
      "            \"text\": \"Hi\", \n",
      "            \"updated\": \"2017-06-19T18:30:07.466Z\", \n",
      "            \"created\": \"2017-06-19T18:30:07.466Z\"\n",
      "        }, \n",
      "        {\n",
      "            \"text\": \"How can I help you?\", \n",
      "            \"updated\": \"2017-06-19T18:30:08.478Z\", \n",
      "            \"created\": \"2017-06-19T18:30:08.478Z\"\n",
      "        }, \n",
      "        {\n",
      "            \"text\": \"Greetings, stranger.\", \n",
      "            \"updated\": \"2017-06-19T18:30:09.517Z\", \n",
      "            \"created\": \"2017-06-19T18:30:09.517Z\"\n",
      "        }\n",
      "    ], \n",
      "    \"created\": \"2017-06-19T18:30:04.470Z\"\n",
      "}\n"
     ]
    }
   ],
   "source": [
    "response = conversation.create_intent(workspace_id=workspace_id, intent='hello', description='Python intent 1.')\n",
    "\n",
    "response = conversation.create_example(workspace_id=workspace_id, intent='hello', text='Hello!')\n",
    "response = conversation.create_example(workspace_id=workspace_id, intent='hello', text='Good morning.')\n",
    "response = conversation.create_example(workspace_id=workspace_id, intent='hello', text='Hi')\n",
    "response = conversation.create_example(workspace_id=workspace_id, intent='hello', text='How can I help you?')\n",
    "response = conversation.create_example(workspace_id=workspace_id, intent='hello', text='Greetings, stranger.')\n",
    "\n",
    "response = conversation.get_intent(workspace_id=workspace_id, intent='hello', export=True)\n",
    "print(json.dumps(response, indent=4))"
   ]
  },
  {
   "cell_type": "markdown",
   "metadata": {},
   "source": [
    "Then, we need to create some more intents:"
   ]
  },
  {
   "cell_type": "code",
   "execution_count": 6,
   "metadata": {
    "collapsed": true
   },
   "outputs": [],
   "source": [
    "response = conversation.create_intent(workspace_id=workspace_id, intent='howareyou', description='Python intent 2.')\n",
    "\n",
    "response = conversation.create_example(workspace_id=workspace_id, intent='howareyou', text='Good!')\n",
    "response = conversation.create_example(workspace_id=workspace_id, intent='howareyou', text='I\\'m doing well.')\n",
    "response = conversation.create_example(workspace_id=workspace_id, intent='howareyou', text='Thank you, I\\'m good.')\n",
    "response = conversation.create_example(workspace_id=workspace_id, intent='howareyou', text='Fine, what about you?')\n",
    "response = conversation.create_example(workspace_id=workspace_id, intent='howareyou', text='I\\'m fine, you little guy.')\n",
    "\n",
    "\n",
    "response = conversation.create_intent(workspace_id=workspace_id, intent='bye', description='Python intent 3.')\n",
    "\n",
    "response = conversation.create_example(workspace_id=workspace_id, intent='bye', text='Bye, have a good time!')\n",
    "response = conversation.create_example(workspace_id=workspace_id, intent='bye', text='Bye! See you later.')\n",
    "response = conversation.create_example(workspace_id=workspace_id, intent='bye', text='Good bye')\n",
    "response = conversation.create_example(workspace_id=workspace_id, intent='bye', text='Bye, nice to talk to you')\n",
    "response = conversation.create_example(workspace_id=workspace_id, intent='bye', text='See you later aligatah!')\n",
    "\n",
    "\n",
    "response = conversation.create_intent(workspace_id=workspace_id, intent='weather', description='Python intent 4.')\n",
    "\n",
    "response = conversation.create_example(workspace_id=workspace_id, intent='weather', text='Weather of')\n",
    "response = conversation.create_example(workspace_id=workspace_id, intent='weather', text='What is the weather of')\n",
    "response = conversation.create_example(workspace_id=workspace_id, intent='weather', text='What will be the weather of')\n",
    "response = conversation.create_example(workspace_id=workspace_id, intent='weather', text='What was the weather of')\n",
    "response = conversation.create_example(workspace_id=workspace_id, intent='weather', text='Tell me the today\\'s weathe. Right, now.')"
   ]
  },
  {
   "cell_type": "markdown",
   "metadata": {},
   "source": [
    "To create the above mentioned entities and synonims we will do:"
   ]
  },
  {
   "cell_type": "code",
   "execution_count": 8,
   "metadata": {
    "collapsed": false
   },
   "outputs": [
    {
     "name": "stdout",
     "output_type": "stream",
     "text": [
      "{\n",
      "    \"updated\": \"2017-06-19T18:30:31.324Z\", \n",
      "    \"description\": null, \n",
      "    \"created\": \"2017-06-19T18:30:31.324Z\", \n",
      "    \"entity\": \"weather\", \n",
      "    \"values\": [\n",
      "        {\n",
      "            \"updated\": \"2017-06-19T18:30:31.324Z\", \n",
      "            \"metadata\": null, \n",
      "            \"value\": \"sunny\", \n",
      "            \"created\": \"2017-06-19T18:30:31.324Z\"\n",
      "        }, \n",
      "        {\n",
      "            \"updated\": \"2017-06-19T18:30:31.324Z\", \n",
      "            \"metadata\": null, \n",
      "            \"value\": \"rainy\", \n",
      "            \"created\": \"2017-06-19T18:30:31.324Z\"\n",
      "        }, \n",
      "        {\n",
      "            \"updated\": \"2017-06-19T18:30:31.324Z\", \n",
      "            \"metadata\": null, \n",
      "            \"value\": \"cloudy\", \n",
      "            \"created\": \"2017-06-19T18:30:31.324Z\"\n",
      "        }\n",
      "    ], \n",
      "    \"fuzzy_match\": true, \n",
      "    \"metadata\": null\n",
      "}\n"
     ]
    }
   ],
   "source": [
    "values = [{\"value\": \"sunny\"}, {\"value\": \"rainy\"}, {\"value\": \"cloudy\"}]\n",
    "conversation.create_entity(workspace_id, 'weather', values=values, fuzzy_match = True)\n",
    "\n",
    "response = conversation.get_entity(workspace_id=workspace_id, entity='weather', export=True)\n",
    "print(json.dumps(response, indent=4))"
   ]
  },
  {
   "cell_type": "markdown",
   "metadata": {},
   "source": [
    "Now we need to add the synonyms:"
   ]
  },
  {
   "cell_type": "code",
   "execution_count": 9,
   "metadata": {
    "collapsed": false
   },
   "outputs": [],
   "source": [
    "sunnySynonyms = [\"light\", \"pleasant\", \"sun\", \"sunlit\", \"warm\"]\n",
    "rainySynonyms = [\"rain\", \"stormy\", \"storm\", \"wet\", \"drizzly\"]\n",
    "cloudySynonyms = [\"cloud\", \"foggy\", \"dark\", \"dim\"]\n",
    "\n",
    "for synonym in sunnySynonyms: response = conversation.create_synonym(workspace_id, 'weather', 'sunny', synonym)\n",
    "for synonym in rainySynonyms: response = conversation.create_synonym(workspace_id, 'weather', 'rainy', synonym)\n",
    "for synonym in cloudySynonyms: response = conversation.create_synonym(workspace_id, 'weather', 'cloudy', synonym)"
   ]
  },
  {
   "cell_type": "code",
   "execution_count": 10,
   "metadata": {
    "collapsed": false
   },
   "outputs": [
    {
     "name": "stdout",
     "output_type": "stream",
     "text": [
      "{\n",
      "    \"updated\": \"2017-06-19T18:30:52.997Z\", \n",
      "    \"description\": null, \n",
      "    \"created\": \"2017-06-19T18:30:31.324Z\", \n",
      "    \"entity\": \"weather\", \n",
      "    \"values\": [\n",
      "        {\n",
      "            \"updated\": \"2017-06-19T18:30:43.868Z\", \n",
      "            \"metadata\": null, \n",
      "            \"synonyms\": [\n",
      "                \"light\", \n",
      "                \"pleasant\", \n",
      "                \"sun\", \n",
      "                \"sunlit\", \n",
      "                \"warm\"\n",
      "            ], \n",
      "            \"value\": \"sunny\", \n",
      "            \"created\": \"2017-06-19T18:30:31.324Z\"\n",
      "        }, \n",
      "        {\n",
      "            \"updated\": \"2017-06-19T18:30:48.957Z\", \n",
      "            \"metadata\": null, \n",
      "            \"synonyms\": [\n",
      "                \"rain\", \n",
      "                \"stormy\", \n",
      "                \"storm\", \n",
      "                \"wet\", \n",
      "                \"drizzly\"\n",
      "            ], \n",
      "            \"value\": \"rainy\", \n",
      "            \"created\": \"2017-06-19T18:30:31.324Z\"\n",
      "        }, \n",
      "        {\n",
      "            \"updated\": \"2017-06-19T18:30:52.997Z\", \n",
      "            \"metadata\": null, \n",
      "            \"synonyms\": [\n",
      "                \"cloud\", \n",
      "                \"foggy\", \n",
      "                \"dark\", \n",
      "                \"dim\"\n",
      "            ], \n",
      "            \"value\": \"cloudy\", \n",
      "            \"created\": \"2017-06-19T18:30:31.324Z\"\n",
      "        }\n",
      "    ], \n",
      "    \"fuzzy_match\": true, \n",
      "    \"metadata\": null\n",
      "}\n"
     ]
    }
   ],
   "source": [
    "response = conversation.get_entity(workspace_id=workspace_id, entity='weather', export=True)\n",
    "print(json.dumps(response, indent=4))"
   ]
  },
  {
   "cell_type": "markdown",
   "metadata": {},
   "source": [
    "As commented above, the creation of synonyms were not allowed in previous versions of the Watson API. This showed how this API were not mature at some point and that there were some limitations we could find if we try to train our Watson bot entirely, at least, with Python. No one guarantees that the prevailing version is completely finished and bugs free."
   ]
  },
  {
   "cell_type": "markdown",
   "metadata": {},
   "source": [
    "Now just the dialog needs to be defined. A dialog is a sequence of conditions and events that we have to define somehow. Regarding the previous statement, here we have an important lack in the Watson API. Dialogs cannot be created by means of Python right now, since the module that were developed for it used the Dialog Bluemix service, which is deprecated right now. One could think that deprecated does not mean \"broken\", but..."
   ]
  },
  {
   "cell_type": "code",
   "execution_count": 11,
   "metadata": {
    "collapsed": false
   },
   "outputs": [
    {
     "name": "stdout",
     "output_type": "stream",
     "text": [
      "WARNING: The Dialog service was deprecated, existing instances of the service will continue to functionuntil August 9, 2017. See https://www.ibm.com/watson/developercloud/doc/conversation/migration.shtml\n"
     ]
    },
    {
     "ename": "WatsonException",
     "evalue": "Unauthorized: Access is denied due to invalid credentials ",
     "output_type": "error",
     "traceback": [
      "\u001b[0;31m\u001b[0m",
      "\u001b[0;31mWatsonException\u001b[0mTraceback (most recent call last)",
      "\u001b[0;32m<ipython-input-11-d98d81edf80d>\u001b[0m in \u001b[0;36m<module>\u001b[0;34m()\u001b[0m\n\u001b[1;32m      6\u001b[0m     password=password)\n\u001b[1;32m      7\u001b[0m \u001b[1;33m\u001b[0m\u001b[0m\n\u001b[0;32m----> 8\u001b[0;31m \u001b[1;32mprint\u001b[0m\u001b[1;33m(\u001b[0m\u001b[0mjson\u001b[0m\u001b[1;33m.\u001b[0m\u001b[0mdumps\u001b[0m\u001b[1;33m(\u001b[0m\u001b[0mdialog\u001b[0m\u001b[1;33m.\u001b[0m\u001b[0mget_dialogs\u001b[0m\u001b[1;33m(\u001b[0m\u001b[1;33m)\u001b[0m\u001b[1;33m,\u001b[0m \u001b[0mindent\u001b[0m\u001b[1;33m=\u001b[0m\u001b[1;36m2\u001b[0m\u001b[1;33m)\u001b[0m\u001b[1;33m)\u001b[0m\u001b[1;33m\u001b[0m\u001b[0m\n\u001b[0m",
      "\u001b[0;32mC:\\Users\\navar\\Anaconda2\\lib\\site-packages\\watson_developer_cloud\\dialog_v1.pyc\u001b[0m in \u001b[0;36mget_dialogs\u001b[0;34m(self)\u001b[0m\n\u001b[1;32m     37\u001b[0m \u001b[1;33m\u001b[0m\u001b[0m\n\u001b[1;32m     38\u001b[0m     \u001b[1;32mdef\u001b[0m \u001b[0mget_dialogs\u001b[0m\u001b[1;33m(\u001b[0m\u001b[0mself\u001b[0m\u001b[1;33m)\u001b[0m\u001b[1;33m:\u001b[0m\u001b[1;33m\u001b[0m\u001b[0m\n\u001b[0;32m---> 39\u001b[0;31m         \u001b[1;32mreturn\u001b[0m \u001b[0mself\u001b[0m\u001b[1;33m.\u001b[0m\u001b[0mrequest\u001b[0m\u001b[1;33m(\u001b[0m\u001b[0mmethod\u001b[0m\u001b[1;33m=\u001b[0m\u001b[1;34m'GET'\u001b[0m\u001b[1;33m,\u001b[0m \u001b[0murl\u001b[0m\u001b[1;33m=\u001b[0m\u001b[1;34m'/v1/dialogs'\u001b[0m\u001b[1;33m,\u001b[0m \u001b[0maccept_json\u001b[0m\u001b[1;33m=\u001b[0m\u001b[0mTrue\u001b[0m\u001b[1;33m)\u001b[0m\u001b[1;33m\u001b[0m\u001b[0m\n\u001b[0m\u001b[1;32m     40\u001b[0m \u001b[1;33m\u001b[0m\u001b[0m\n\u001b[1;32m     41\u001b[0m     \u001b[1;32mdef\u001b[0m \u001b[0mget_dialog\u001b[0m\u001b[1;33m(\u001b[0m\u001b[0mself\u001b[0m\u001b[1;33m,\u001b[0m \u001b[0mdialog_id\u001b[0m\u001b[1;33m,\u001b[0m \u001b[0maccept\u001b[0m\u001b[1;33m=\u001b[0m\u001b[1;34m'application/wds+json'\u001b[0m\u001b[1;33m)\u001b[0m\u001b[1;33m:\u001b[0m\u001b[1;33m\u001b[0m\u001b[0m\n",
      "\u001b[0;32mC:\\Users\\navar\\Anaconda2\\lib\\site-packages\\watson_developer_cloud\\watson_developer_cloud_service.pyc\u001b[0m in \u001b[0;36mrequest\u001b[0;34m(self, method, url, accept_json, headers, params, json, data, files, **kwargs)\u001b[0m\n\u001b[1;32m    322\u001b[0m             \u001b[1;32melse\u001b[0m\u001b[1;33m:\u001b[0m\u001b[1;33m\u001b[0m\u001b[0m\n\u001b[1;32m    323\u001b[0m                 \u001b[0merror_message\u001b[0m \u001b[1;33m=\u001b[0m \u001b[0mself\u001b[0m\u001b[1;33m.\u001b[0m\u001b[0m_get_error_message\u001b[0m\u001b[1;33m(\u001b[0m\u001b[0mresponse\u001b[0m\u001b[1;33m)\u001b[0m\u001b[1;33m\u001b[0m\u001b[0m\n\u001b[0;32m--> 324\u001b[0;31m             \u001b[1;32mraise\u001b[0m \u001b[0mWatsonException\u001b[0m\u001b[1;33m(\u001b[0m\u001b[0merror_message\u001b[0m\u001b[1;33m)\u001b[0m\u001b[1;33m\u001b[0m\u001b[0m\n\u001b[0m",
      "\u001b[0;31mWatsonException\u001b[0m: Unauthorized: Access is denied due to invalid credentials "
     ]
    }
   ],
   "source": [
    "from os.path import join, dirname\n",
    "from watson_developer_cloud import DialogV1\n",
    "\n",
    "dialog = DialogV1(\n",
    "    username=username,\n",
    "    password=password)\n",
    "\n",
    "print(json.dumps(dialog.get_dialogs(), indent=2))"
   ]
  },
  {
   "cell_type": "markdown",
   "metadata": {},
   "source": [
    "The service answer that the credentials are not recognized.\n",
    "\n",
    "Instead, they say we need to use the very same Conversation service we used for the rest of elements defining a Watson bot. But no library implement it, we would need to do it directly through the API REST. But the [Conversation API REST](https://watson-api-explorer.mybluemix.net/apis/conversation-v1#/) just implements methods for every object except for dialogs. We need to resort to the GUI in order to create a Dialog. We will do it as in the [GUI Hands-on](https://github.com/HerrMannNav/CLOUD-COMPUTING-COURSE-2017/blob/master/project/Watson-Hands-on-using-GUI.ipynb).\n",
    "\n",
    "Once we have defined it, we can perform some queries to the bot: "
   ]
  },
  {
   "cell_type": "code",
   "execution_count": 13,
   "metadata": {
    "collapsed": false
   },
   "outputs": [
    {
     "name": "stdout",
     "output_type": "stream",
     "text": [
      "{\n",
      "    \"entities\": [], \n",
      "    \"intents\": [\n",
      "        {\n",
      "            \"confidence\": 0.6453611254692078, \n",
      "            \"intent\": \"hello\"\n",
      "        }\n",
      "    ], \n",
      "    \"output\": {\n",
      "        \"text\": [\n",
      "            \"Hello!\"\n",
      "        ], \n",
      "        \"log_messages\": [], \n",
      "        \"nodes_visited\": [\n",
      "            \"hello\"\n",
      "        ]\n",
      "    }, \n",
      "    \"context\": {\n",
      "        \"conversation_id\": \"5cbace1f-a8d8-4d3a-8e6c-9f286efea61e\", \n",
      "        \"system\": {\n",
      "            \"dialog_stack\": [\n",
      "                {\n",
      "                    \"dialog_node\": \"root\"\n",
      "                }\n",
      "            ], \n",
      "            \"dialog_request_counter\": 1, \n",
      "            \"dialog_turn_counter\": 1, \n",
      "            \"branch_exited\": true, \n",
      "            \"_node_output_map\": {\n",
      "                \"node_2_1497897131954\": [\n",
      "                    0\n",
      "                ]\n",
      "            }, \n",
      "            \"branch_exited_reason\": \"completed\"\n",
      "        }\n",
      "    }, \n",
      "    \"input\": {\n",
      "        \"text\": \"hey\"\n",
      "    }\n",
      "}\n",
      "[u'Hello!']\n"
     ]
    }
   ],
   "source": [
    "# replace with your own workspace_id\n",
    "\n",
    "response = conversation.message(workspace_id=workspace_id, message_input={'text': 'hey'})\n",
    "\n",
    "print(json.dumps(response, indent=4))\n",
    "print(response[\"output\"][\"text\"])"
   ]
  },
  {
   "cell_type": "code",
   "execution_count": 17,
   "metadata": {
    "collapsed": false
   },
   "outputs": [
    {
     "name": "stdout",
     "output_type": "stream",
     "text": [
      "[u'No... there is no light in here... :(']\n"
     ]
    }
   ],
   "source": [
    "response = conversation.message(workspace_id=workspace_id, context = response['context'], message_input={'text': 'Is there warm?'})\n",
    "\n",
    "print(response[\"output\"][\"text\"])"
   ]
  },
  {
   "cell_type": "code",
   "execution_count": 18,
   "metadata": {
    "collapsed": false
   },
   "outputs": [
    {
     "name": "stdout",
     "output_type": "stream",
     "text": [
      "[u'Yes, it is always rainy here in the circuits world!']\n"
     ]
    }
   ],
   "source": [
    "response = conversation.message(workspace_id=workspace_id, context = response['context'], message_input={'text': 'So it is raining... there?'})\n",
    "\n",
    "print(response[\"output\"][\"text\"])"
   ]
  },
  {
   "cell_type": "code",
   "execution_count": null,
   "metadata": {
    "collapsed": true
   },
   "outputs": [],
   "source": []
  }
 ],
 "metadata": {
  "kernelspec": {
   "display_name": "Python 2",
   "language": "python",
   "name": "python2"
  },
  "language_info": {
   "codemirror_mode": {
    "name": "ipython",
    "version": 2
   },
   "file_extension": ".py",
   "mimetype": "text/x-python",
   "name": "python",
   "nbconvert_exporter": "python",
   "pygments_lexer": "ipython2",
   "version": "2.7.13"
  }
 },
 "nbformat": 4,
 "nbformat_minor": 2
}
