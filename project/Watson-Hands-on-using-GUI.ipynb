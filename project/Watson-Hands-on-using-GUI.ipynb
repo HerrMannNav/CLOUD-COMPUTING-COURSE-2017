{
 "cells": [
  {
   "cell_type": "markdown",
   "metadata": {},
   "source": [
    "# Introduction to watson"
   ]
  },
  {
   "cell_type": "markdown",
   "metadata": {},
   "source": [
    "Watson is an Artificial Inteligence computer system capable of answering questions posed in natural language. Watson was named after the CEO of IBM Thomas J.Watson. The computer system was specifically developed to answer questions on the quiz show Jeopardy in 2011, Watson competed on Jeopardy against former winners Brad Rutter and Ken Jennings. Watson received the first place prize on $1 million. \n"
   ]
  },
  {
   "cell_type": "markdown",
   "metadata": {},
   "source": [
    "In febraury 2013, IBM announced that Watson Software system's first commercial application would be for utilization\n",
    "management decisions in lung cancer treatment at Memorial Sloan-Kettering Cancer Center in conjunction with health \n",
    "insurence company Wellpoint. IBM watson's former business chief Manoj Saxena says that 90% of nurses in the field who\n",
    "use Watson now follow its guidance."
   ]
  },
  {
   "cell_type": "markdown",
   "metadata": {},
   "source": [
    "# Getting started with watson"
   ]
  },
  {
   "cell_type": "markdown",
   "metadata": {},
   "source": [
    "# Stage 1: Creating account"
   ]
  },
  {
   "cell_type": "markdown",
   "metadata": {},
   "source": [
    "1. Login into IBM Blumix and then navigate to the conversation service\n",
    "\n",
    "   * If you dont have a Blumix account, start 30 days free trail [here](https://console.ng.bluemix.net/registration/?target=/catalog/services/conversation/)   \n",
    "   * Have a blumix account [login](https://console.ng.bluemix.net/catalog/services/conversation)\n",
    "\n",
    "2. Once you logged in a screen will appear where you will see\n",
    "    * Service name:\n",
    "    \n",
    "    --------------//put one name or you can left the default one\n",
    "    \n",
    "    * Credential name:\n",
    "    \n",
    "    ------------- //change the name if you want\n",
    "    \n",
    "   After selecting a name click on create button at the button of the window\n",
    "3. As you click in the create button it will lead it to the next screen where you will see the Launch tool.\n",
    "    \n",
    "    * _Click_ the launch tool\n"
   ]
  },
  {
   "cell_type": "markdown",
   "metadata": {},
   "source": [
    "# Stage 2: Creating a workspace \n",
    "\n",
    "After launching the tool you can either test the sample workspace which is default one or you can create your own.\n",
    "\n",
    "4. Here we will create a workspace to make a simple converstion to Watson.\n",
    "      * _Click_ on the Create button\n",
    "      Once you _click_, a popup window will appear where you need to put a name and description of your conversation.\n",
    "      <img src=\"images/Capture.PNG\">\n",
    "      \n",
    "       * Put name of you conversation on the name space\n",
    "       * Put some description of your conversation in Description space \n",
    "       * Select your language\n",
    "       <img src=\"images/Capture2.PNG\">\n",
    "       \n",
    "Up to now we have created a Workpace for your new conversation. Now you need to add intents, entities and a dialog, to make your conversation work.d"
   ]
  },
  {
   "cell_type": "markdown",
   "metadata": {},
   "source": [
    "# Stage 3: Creating **Intents** , **Dialogue** , **Entities**"
   ]
  },
  {
   "cell_type": "markdown",
   "metadata": {},
   "source": [
    "# 1. Intents \n",
    "\n",
    "An intent is a purpose or goal expressed in customer input. By recognizing the intent expressed in a customer input, conversation can choose the correct dialog flow for responding to it. \n",
    "\n",
    "[For more information](https://www.ibm.com/watson/developercloud/doc/conversation/intents.html)\n",
    "\n",
    "After creating a workspace _click_ on the workspace that you have created:\n",
    "\n",
    "<img src=\"images/Capture14.PNG\">\n",
    "\n",
    "\n",
    "# Creating Intents\n",
    "\n",
    "You will see three different tabs: **intents**, **entities** and **dialog** \n",
    "\n",
    "<img src=\"images/Capture3.PNG\">\n",
    "\n",
    " \n",
    "   * On the intent tab\n",
    "      \n",
    "      * Select create and add a intent name \n",
    "            #hello\n",
    "      * In the user example write      \n",
    "            hello\n",
    "            good morning\n",
    "            hi\n",
    "            how can i help you\n",
    "<img src=\"images/Capture4.PNG\">\n",
    "        \n",
    "Adding at least 5 user examples helps Watson to reconize the intent easily.\n",
    "\n",
    "   * Add three more intents using the same procedure \n",
    "   \n",
    "       * Select create and add a intent name:\n",
    "             #howareyou\n",
    "       * In the user example:\n",
    "             good\n",
    "             i am doing well,\n",
    "             thank you, i am good\n",
    "             fine, what about you\n",
    "             \n",
    "       * Select create and add a intent name:\n",
    "             #bye\n",
    "       * In the user example:\n",
    "             bye have a good time\n",
    "             bye, see you later\n",
    "             good bye\n",
    "             bye,nice to talk to you\n",
    "             \n",
    "       * Select create and addd a intent name:\n",
    "             #weather\n",
    "       * In the user example:\n",
    "             weather of\n",
    "             what is the weather of\n",
    "             what will be the weather of\n",
    "             what was the wheather of\n",
    "             weather of today\n",
    "             \n",
    " When you have finished, _click_ on the Done button and your intents will be saved."
   ]
  },
  {
   "cell_type": "markdown",
   "metadata": {},
   "source": [
    "# 3. Entities \n",
    "\n",
    "Entities represent a class of object or a data type that is relevant to a user's purpose. By reconizing the entities that are mentioned in the user's input, the conversation service can choose the specific actions to take to fullfill an intent.\n",
    "\n",
    "[For more information about entities](https://www.ibm.com/watson/developercloud/doc/conversation/entities.html)\n",
    "\n",
    "# Creating a Entities\n",
    "\n",
    "We are going to define an entity to identify user key words about the weather. We will not connect to an external API for weather forecasting, etc, but we can play as well. We go to the entities tab and define the entity in the capture and activate the _Fuzzy matching_ button.\n",
    "\n",
    "<img src=\"images/weatherEntity.PNG\">"
   ]
  },
  {
   "cell_type": "markdown",
   "metadata": {},
   "source": [
    "# 2. Dialog\n",
    "\n",
    "A dialog uses the intents and entities that are identified in the user's input, and context from the application to interact with the user or to response to the users.\n",
    "The response might be the answer to the questions or to do some actions.\n",
    "\n",
    "[For more information about dialogues](https://www.ibm.com/watson/developercloud/doc/conversation/dialog-build.html)\n",
    "\n",
    "\n",
    "# Creating a Dialog\n",
    "\n",
    "On the test workspace page:\n",
    " \n",
    "   * Select the dialog tab.\n",
    "   \n",
    "<img src=\"images/Capture5.PNG\">   \n",
    "   \n",
    "   * Select create.\n",
    "       \n",
    "As you _click_ on the Create button, the system will create two dialogs by default:\n",
    "        \n",
    "   * Welcome \n",
    "   * Anything else\n",
    "   \n",
    "<img src=\"images/Capture6.PNG\">   \n",
    " \n",
    "If you _click_ on the arrow in the Welcome button, you will see one small round button with a + sign, click on it to add more dialogues. \n",
    "\n",
    "<img src=\"images/Capture7.PNG\">\n",
    "\n",
    "As you click on it, a new window will appear in your screen.\n",
    "        \n",
    "  * In the new window \n",
    "      * Name this node = 'name_of_the_node'\n",
    "      * If the bot recognizes: \n",
    "            #hello\n",
    "            \n",
    "**Select**   #hello\n",
    "\n",
    "<img src=\"images/Capture9.PNG\"> \n",
    "\n",
    "**NOTE** \n",
    "In the field \"If bot recognizes\" you must enter the same name as in the intents, so that it can search the intents in a conversation.\n",
    "     \n",
    "   * Adding response\n",
    "       * Then respond with:\n",
    "             hello\n",
    "             hey\n",
    "             hi\n",
    "             \n",
    "You can add as many responses as you like, and at under the responses list you have an option to respond sequencialy or randomly. If you select Randomly it will choose one of the response randomly and in sequencially it will go one by one sequentially, avoiding in this way the repetition that it could happen when Random is selected.\n",
    "\n",
    "<img src=\"images/Capture10.PNG\">\n",
    "\n",
    "Add another dialogue \"weather\" that the bot will recognize either by the intent #weather or the entity @weather. It will be 2 responses: \n",
    "\n",
    "* The first one with a condition of @weather:sunny and a response \"No... there is no light in here... :(\"\n",
    "* And the second one with the condition of @weather (which means any other @weather entity match) and unique response \"Yes, it is always @weather here in the circuits world!\"\n",
    "\n",
    "<img src=\"images/Capture101.PNG\">\n",
    "\n",
    "Add two more dialogues using the same procedure using the same name as in the intents."
   ]
  },
  {
   "cell_type": "markdown",
   "metadata": {},
   "source": [
    "# Stage 4: Testing \n",
    "\n",
    "Now, we can test our simple conversatation on Watson: \n",
    "\n",
    "_Click_ on the message symbol in the top right corner:\n",
    "\n",
    "<img src=\"images/Capture11.PNG\"> \n",
    "\n",
    "The chat box is supposed to appear as shown in the picture below. \n",
    "\n",
    "<img src=\"images/Capture12.PNG\"> \n",
    "\n",
    "Now, you can ask a simple question like the ones you have prepared before in intents and in dialogue.\n",
    "The conversation might look like:\n",
    "\n",
    "<img src=\"images/Capture13.PNG\"> \n",
    "\n",
    "If we ask it something about the weather where it is...\n",
    "\n",
    "<img src=\"images/ConvWeather.PNG\">\n",
    "\n",
    "You can ask whatever you can, but the if you haven't put the proper conditions and defined the aproppriate dialogue flows then it shows the tag \"irrelevant\" and you won't get any output."
   ]
  },
  {
   "cell_type": "markdown",
   "metadata": {
    "collapsed": true
   },
   "source": [
    "# Conclusion\n",
    "\n",
    "We have learned what is Watson, how to create a simple conversation using graphical user interface. Adding a intents and a dialoge is very simple and very well documented in the official site of the [IBM Watson](https://www.ibm.com/watson/developercloud/doc/index.html). Watson is a very powerful AI tool which can understand natural language and could be very useful for your business.\n",
    "\n",
    "Besides, we have also tried to do a similar thing using Python, using the Watson API it is provided (not directly the API REST, as it is explained in the report). If you are interested you can look for it in [GitHub](https://github.com/HerrMannNav/CLOUD-COMPUTING-COURSE-2017/blob/master/project/WatsonTest.ipynb)."
   ]
  }
 ],
 "metadata": {
  "kernelspec": {
   "display_name": "Python 2",
   "language": "python",
   "name": "python2"
  },
  "language_info": {
   "codemirror_mode": {
    "name": "ipython",
    "version": 2
   },
   "file_extension": ".py",
   "mimetype": "text/x-python",
   "name": "python",
   "nbconvert_exporter": "python",
   "pygments_lexer": "ipython2",
   "version": "2.7.13"
  }
 },
 "nbformat": 4,
 "nbformat_minor": 2
}
