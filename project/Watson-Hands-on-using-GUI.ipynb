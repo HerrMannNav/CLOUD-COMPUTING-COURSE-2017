{
 "cells": [
  {
   "cell_type": "markdown",
   "metadata": {},
   "source": [
    "# Introduction to watson"
   ]
  },
  {
   "cell_type": "markdown",
   "metadata": {},
   "source": [
    "Watson is an Artificial Inteligent computer system capable of answering questions posed in natural language. Watson was named after the CEO of IBM Thomas J.Watson. the computer system was specifically developed to answer questions on the quiz show Jeopardy in 2011, Watson competed on Jeopardy agnaist formet winners Brad Rutter and Ken Jennings. Watson received the first place prize on $1 million. \n"
   ]
  },
  {
   "cell_type": "markdown",
   "metadata": {},
   "source": [
    "In febraury 2013, IBM announced that Watson Software system's first commercial application would be for utilization\n",
    "manaagement decisions in lung cancer treatment at Memorial Sloan-Kettering Cancer Center in conjunction with helth \n",
    "insurence company wellpoint. IBM watson's former business chief Manoj Saxena says that 90% of nurses in the field who\n",
    "use watson now follow its fuidance."
   ]
  },
  {
   "cell_type": "markdown",
   "metadata": {},
   "source": [
    "# Getting started with watson"
   ]
  },
  {
   "cell_type": "markdown",
   "metadata": {},
   "source": [
    "# Stage 1: Creating account"
   ]
  },
  {
   "cell_type": "markdown",
   "metadata": {},
   "source": [
    "1. Login into IBM Blumix and then navigate to the conversation service\n",
    "\n",
    "   * if you dont have a Blumix account, start 30 days free trail [here](https://console.ng.bluemix.net/registration/?target=/catalog/services/conversation/)   \n",
    "   * have a blumix account, [login](https://console.ng.bluemix.net/catalog/services/conversation)\n",
    "\n",
    "2. Once you logged in a screen will appear where you will see\n",
    "    * Service name:\n",
    "    \n",
    "    --------------//put one name or you can left the default one\n",
    "    \n",
    "    * Credential name:\n",
    "    \n",
    "    ------------- //change the name if you want\n",
    "    \n",
    "   after selecting a name click on create button at the button of the window\n",
    "3. As you click in the create button it will lead it to the next screen where you will see the Launch tool.\n",
    "    \n",
    "    * click the launch tool\n"
   ]
  },
  {
   "cell_type": "markdown",
   "metadata": {},
   "source": [
    "# Stage 2: Creating a workspace \n",
    "\n",
    "After lunching a tool you can either test the sample workspace which is default one or you can create your own.\n",
    "\n",
    "4. Here we will create a workspace to make a simple converstion to the watson.\n",
    "      * click on the create button\n",
    "      once you click one popup windown will appear where you need to put a name and description of your conservation.\n",
    "      <img src=\"images/Capture.PNG\">\n",
    "      \n",
    "       * put name of you conservation on the name space\n",
    "       * put some discription of your conversation in Descriptio space \n",
    "       * select your language\n",
    "       <img src=\"images/Capture2.PNG\">\n",
    "       \n",
    "Upto now we have created one workpace for your new conversation. Now you need to add intents entities and a dialog, to make your conversation working.\n"
   ]
  },
  {
   "cell_type": "markdown",
   "metadata": {},
   "source": [
    "# Stage 3: Creating **Intents** , **Dialoge** , **Entities**"
   ]
  },
  {
   "cell_type": "markdown",
   "metadata": {},
   "source": [
    "# 1. Intents \n",
    "\n",
    "An intent is a purpose or goal expressed in customer input. By recogning the intent expressed in a customer input, conversatioin can choose the correct dialog flow for responding to it. \n",
    "\n",
    "[for more](https://www.ibm.com/watson/developercloud/doc/conversation/intents.html)\n",
    "\n",
    "After creating a workspace click on the workspace that you have created\n",
    "\n",
    "<img src=\"images/Capture14.PNG\">\n",
    "\n",
    "\n",
    "# Creatinig an Intents\n",
    "\n",
    "You will see three different tabs  \n",
    "**intents**  **entities**  **dilog** \n",
    "\n",
    "<img src=\"images/Capture3.PNG\">\n",
    "\n",
    " \n",
    "   * On the intent tab\n",
    "      \n",
    "      * Select create and add a intent name \n",
    "            #hello\n",
    "      * In the user example write      \n",
    "            hello\n",
    "            good morning\n",
    "            hi\n",
    "            how can i help you\n",
    "<img src=\"images/Capture4.PNG\">\n",
    "        \n",
    "Adding at least 5 user examples, helps Watson to reconize the intent easily.\n",
    "\n",
    "      \n",
    "   * Add two more intents using the same procedure \n",
    "   \n",
    "       * Select create and add a intent name \n",
    "             #howareyou\n",
    "             \n",
    "       * In the user example       \n",
    "             good\n",
    "             i am doing well,\n",
    "             thank you, i am good\n",
    "             fine, what about you\n",
    "             \n",
    "       * Select create and add a intent name \n",
    "             #bye\n",
    "       * In the user example\n",
    "             bye have a good time\n",
    "             bye, see you later\n",
    "             good bye\n",
    "             bye,nice to talk to you\n",
    "             \n",
    " when you are finished, click the done button and your intents will be saved."
   ]
  },
  {
   "cell_type": "markdown",
   "metadata": {},
   "source": [
    "# 2. Dialoge \n",
    "\n",
    "The dilog uses the intents and entities that are identified in the user's input,and context from the application to intecract with the user or to response to the users.\n",
    "The response might be the answer to the questions or to do some actions.\n",
    "\n",
    "[for more](https://www.ibm.com/watson/developercloud/doc/conversation/dialog-build.html)\n",
    "\n",
    "\n",
    "# Creating a Dialoge\n",
    "\n",
    "on the test workspace page\n",
    " \n",
    "   * select the dilog tab\n",
    "   \n",
    "<img src=\"images/Capture5.PNG\">   \n",
    "   \n",
    "   * select create\n",
    "       \n",
    "As you click on the create button, the system will create two dilog.\n",
    "which is default.\n",
    "        \n",
    "   * Welcome \n",
    "   * Anything else\n",
    "   \n",
    "  \n",
    "<img src=\"images/Capture6.PNG\">   \n",
    " \n",
    "IF you click on the arrow in the Welcome button, you will see one small round button with + sign, click on it to add more gialoge. \n",
    " \n",
    "         \n",
    "<img src=\"images/Capture7.PNG\">\n",
    "\n",
    "\n",
    "As you click on it, new window will appear in your screen.\n",
    "        \n",
    "  * In the new window \n",
    "      * name this node = 'name_of_the_node'\n",
    "      * If bot reconizes: \n",
    "            #hello\n",
    "            \n",
    "**Select**   #hello(create new con...)\n",
    "\n",
    "<img src=\"images/Capture9.PNG\"> \n",
    "\n",
    "**NOTE** \n",
    "IN if bot reconizes you must enter the same name as in the intents, so that it can search the intents while doing conversation.\n",
    "     \n",
    "   * Adding response\n",
    "       * Then respond with:\n",
    "             hello\n",
    "             hey\n",
    "             hi\n",
    "             \n",
    "You can add as many as response as you like, and at the buttom of the responses you have an option to respond sequencialy or randomly. If you select Randomly it will choose one of the response randomly and in sequencially it will go one by one sequentially \n",
    "\n",
    "<img src=\"images/Capture10.PNG\">\n",
    "             \n",
    "\n",
    "Add two more dialoge using the same process using the same name as in the intents."
   ]
  },
  {
   "cell_type": "markdown",
   "metadata": {},
   "source": [
    "# 3. Entities \n",
    "\n",
    "Entities represent a class of object or a data type that is relevant to a user's purpose. By reconizing the entities that are mentioned in the user's input, the conversation service can choose the specific actions to take to fullfill an intent.\n",
    "\n",
    "[for more](https://www.ibm.com/watson/developercloud/doc/conversation/entities.html)\n",
    "\n",
    "# Creating a Entities\n",
    "\n",
    "We are going to define an entity to identify user key words about the weather. We will not connect to an external API for weather forecasting, etc, but we can play as well. We go to the entities tab and define the entity in the capture and activate the _Fuzzy matching_ button.\n",
    "\n",
    "<img src=\"images/weatherEntity.PNG\">"
   ]
  },
  {
   "cell_type": "markdown",
   "metadata": {},
   "source": [
    "# Stage 4: Testing \n",
    "\n",
    "Now we can test our simple conversatation on Watson: \n",
    "\n",
    "Click on the message symbol in the top right corner\n",
    "\n",
    "<img src=\"images/Capture11.PNG\"> \n",
    "\n",
    "\n",
    "The chat box is supposed to appear, as shown in picture below. \n",
    "\n",
    "<img src=\"images/Capture12.PNG\"> \n",
    "\n",
    "\n",
    "Now you can ask simple question as you have prepared before in intents and in dialoge.\n",
    "The conversation might look like\n",
    "\n",
    "<img src=\"images/Capture13.PNG\"> \n",
    "\n",
    "\n",
    "If we ask him something about the weather where he is...\n",
    "\n",
    "<img src=\"images/ConvWeather.PNG\">\n",
    "\n",
    "\n",
    "You can ask whatever you can, but the if you haven't put the proper conditions and dialoge then it shows the irrevalent and you won't get any output.\n",
    "\n"
   ]
  },
  {
   "cell_type": "markdown",
   "metadata": {
    "collapsed": true
   },
   "source": [
    "# Conclusion\n",
    "\n",
    "We have learned what is Watson, how to create a simple conversation using graphical user interface. Adding a intents and a dialoge is very simple and very well documented in the official site of the [IBM Watson](https://www.ibm.com/watson/developercloud/doc/index.html). Watson is a very powerful AI tool which can understand natural language and could be very useful for your business.\n",
    "\n",
    "Beside this we also have tried to do quite similar thing using the python script. if you are intersted you can look for it in [github](https://github.com/HerrMannNav/CLOUD-COMPUTING-COURSE-2017/blob/master/project/WatsonTest.ipynb)."
   ]
  }
 ],
 "metadata": {
  "kernelspec": {
   "display_name": "Python 2",
   "language": "python",
   "name": "python2"
  },
  "language_info": {
   "codemirror_mode": {
    "name": "ipython",
    "version": 2
   },
   "file_extension": ".py",
   "mimetype": "text/x-python",
   "name": "python",
   "nbconvert_exporter": "python",
   "pygments_lexer": "ipython2",
   "version": "2.7.13"
  }
 },
 "nbformat": 4,
 "nbformat_minor": 2
}
