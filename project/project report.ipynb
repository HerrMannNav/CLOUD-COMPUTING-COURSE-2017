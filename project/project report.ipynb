{
 "cells": [
  {
   "cell_type": "markdown",
   "metadata": {},
   "source": [
    "# Introduction to watson"
   ]
  },
  {
   "cell_type": "markdown",
   "metadata": {},
   "source": [
    "watson is an artificial inteligent computer system capable of answering questions posed in natural language. Watson was named after the CEO of IBM Thomas J.Watson. the computer system was specifically developed to answer questions on the quiz show Jeopardy in 2011, Watson competed on Jeopardy agnaist formet winners Brad Rutter and Ken Jennings. Watson received the first place prize on $1 million.\n"
   ]
  },
  {
   "cell_type": "markdown",
   "metadata": {},
   "source": [
    "Watson had access to 200 million pages of structured and unstructured content \n",
    "consuming four terabytes of disk storage including the full text of Wikipedia, but was not \n",
    "connected to the Internet during the game. For each clue, Watson's three most probable \n",
    "responses were displayed on the television screen. Watson consistently outperformed \n",
    "its human opponents on the game's signaling device, but had trouble responding to a \n",
    "few categories, notably those having short clues containing only a few words."
   ]
  },
  {
   "cell_type": "markdown",
   "metadata": {},
   "source": [
    "In   February   2013,   IBM   announced   that   Watson   software   system's   first   commercial\n",
    "application would be for utilization management decisions in lung cancer treatment at\n",
    "Memorial Sloan–Kettering Cancer Center in conjunction with health insurance company\n",
    "WellPoint.  IBM Watson's former business chief Manoj Saxena says that 90% of nurses\n",
    "in the field who use Watson now follow its guidance."
   ]
  },
  {
   "cell_type": "markdown",
   "metadata": {},
   "source": [
    "# getting started with watson"
   ]
  },
  {
   "cell_type": "markdown",
   "metadata": {},
   "source": [
    "# stage 1:"
   ]
  },
  {
   "cell_type": "markdown",
   "metadata": {},
   "source": [
    "1. login into IBM Blumix and then navigate to the conversation service\n",
    "\n",
    "   * if you dont have a Blumix account, start 30 days free trail [here](https://console.ng.bluemix.net/registration/?target=/catalog/services/conversation/)   \n",
    "   * have a blumix account, [login](https://console.ng.bluemix.net/catalog/services/conversation)\n",
    "\n",
    "2. once you logged in a screen will appear where you will see\n",
    "    * Service name:\n",
    "    \n",
    "    --------------//put one name or you can left the default one\n",
    "    \n",
    "    * Credential name:\n",
    "    \n",
    "    ------------- //change the name if you want\n",
    "    \n",
    "   after selecting a name click on create button at the button of the window\n",
    "3. As you click in the create button it will lead it to the next screen where you will see the Launch tool\n",
    "    click that button\n",
    "    * click the launch tool\n",
    "    \n",
    "\n",
    "\n",
    "\n"
   ]
  },
  {
   "cell_type": "markdown",
   "metadata": {},
   "source": [
    "# creating a workspace \n",
    "\n",
    "After lunching a tool you can either test the sample workspace which is default one or you can create your own.\n",
    "\n",
    "4. Here we are creating our own workspace,To create own workspace\n",
    "      * click on the create button\n",
    "      once you click one popup windown will appear where you need to put a name and description of your conservation.\n",
    "      <img src=\"images/Capture.PNG \">\n",
    "      \n",
    "       * put name of you conservation on the name space\n",
    "       * put some discription of your conversation in Descriptio space \n",
    "       * select your language\n",
    "       <img src=\"images/Capture2.PNG \">\n",
    "       \n",
    "upto now you have created one new space for your new conversation\n",
    "now you need to add intents entities and a dialog, to make your conversation working\n"
   ]
  },
  {
   "cell_type": "markdown",
   "metadata": {},
   "source": [
    "# Intents \n",
    "\n",
    "An intent is a purpose or goal expressed in customer input. By recogning the intent expressed in a customer input, conversatioin can choose the correct dialog flow for responding to it. \n",
    "\n",
    "[for more](https://www.ibm.com/watson/developercloud/doc/conversation/intents.html)\n",
    "\n",
    "After creating a workspace click on the workspace that you have created\n",
    "\n",
    "<img src=\"images/Capture14.PNG \">\n",
    "\n",
    "\n",
    "   # Creatinig an Intents\n",
    "\n",
    "you will see three different tabs  \n",
    "**intents**  **entities**  **dilog** \n",
    "<img src=\"images/Capture3.PNG \">\n",
    "\n",
    " \n",
    "   * on the intent tab\n",
    "       * select create and add a intent name \n",
    "             #hello\n",
    "             \n",
    "<img src=\"images/Capture4.PNG \">\n",
    "             \n",
    "       * in the user example write\n",
    "             hello\n",
    "             good morning\n",
    "             hi\n",
    "             how can i help you\n",
    "Adding at least 5 user examples, helps watson to reconize the intent easily\n",
    "Add 3 more entents using the same procedure\n",
    "       \n",
    "       * select create and add a intent name \n",
    "             #howareyou\n",
    "       * in the user example\n",
    "             good\n",
    "             i am doing well,\n",
    "             thank you, i am good\n",
    "             fine, what about you\n",
    "             \n",
    "       * select create and add a intent name \n",
    "             #bye\n",
    "       * in the user example\n",
    "             bye have a good time\n",
    "             bye, see you later\n",
    "             good bye\n",
    "             bye,nice talking to you\n",
    "             \n",
    " when you are finished, click the done button and your intents will be saved"
   ]
  },
  {
   "cell_type": "markdown",
   "metadata": {},
   "source": [
    "# dialoge \n",
    "\n",
    "The dilog uses the intents and entities that are identified in the user's input,and context from the application to intecract with the user or to response to the users.\n",
    "The response might be the answer to the questions or to do some actions.\n",
    "\n",
    "[for more](https://www.ibm.com/watson/developercloud/doc/conversation/dialog-build.html)\n",
    "\n",
    "on the test workspace page\n",
    " \n",
    "   * select the dilog tab\n",
    "<img src=\"images/Capture5.PNG \">   \n",
    "       * select create and\n",
    "       \n",
    "As you click on the create button, the system will create two dilog: \n",
    "<img src=\"images/Capture6.PNG \">   \n",
    " \n",
    "        * Welcome \n",
    "        * Anything else\n",
    "         \n",
    "<img src=\"images/Capture7.PNG \">\n",
    "<img src=\"images/Capture8.PNG \">\n",
    "<img src=\"images/Capture9.PNG \">   \n",
    "\n",
    "\n",
    "\n",
    "if you click on the edit menu(right down of the welcome dilogue):\n",
    "    "
   ]
  },
  {
   "cell_type": "markdown",
   "metadata": {},
   "source": [
    "# entities \n",
    "\n",
    "An entities represents a class of object or a data type that is relevant to a user's purpose. By reconizing the entities that are mentioned in the user's input, the conversation service can choose the specific actions to take to fullfill an intent.\n",
    "\n",
    "[for more](https://www.ibm.com/watson/developercloud/doc/conversation/entities.html)"
   ]
  },
  {
   "cell_type": "code",
   "execution_count": null,
   "metadata": {
    "collapsed": true
   },
   "outputs": [],
   "source": []
  }
 ],
 "metadata": {
  "kernelspec": {
   "display_name": "Python 2",
   "language": "python",
   "name": "python2"
  },
  "language_info": {
   "codemirror_mode": {
    "name": "ipython",
    "version": 2
   },
   "file_extension": ".py",
   "mimetype": "text/x-python",
   "name": "python",
   "nbconvert_exporter": "python",
   "pygments_lexer": "ipython2",
   "version": "2.7.13"
  }
 },
 "nbformat": 4,
 "nbformat_minor": 2
}
