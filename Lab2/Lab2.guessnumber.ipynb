{
 "cells": [
  {
   "cell_type": "markdown",
   "metadata": {},
   "source": [
    "First we import the required libraries:"
   ]
  },
  {
   "cell_type": "code",
   "execution_count": 1,
   "metadata": {
    "collapsed": true
   },
   "outputs": [],
   "source": [
    "import random\n",
    "import re"
   ]
  },
  {
   "cell_type": "markdown",
   "metadata": {},
   "source": [
    "We define the interval of numbers to play with and generate a random number, asking the user for a proposal:"
   ]
  },
  {
   "cell_type": "code",
   "execution_count": 2,
   "metadata": {
    "collapsed": false,
    "scrolled": true
   },
   "outputs": [
    {
     "name": "stdout",
     "output_type": "stream",
     "text": [
      "Guess the number! [0,20]\t10\n"
     ]
    }
   ],
   "source": [
    "def representsInteger(i):\n",
    "    return re.match(r\"[-+]?\\d+$\", i)\n",
    "    \n",
    "minNumber, maxNumber = 0, 20\n",
    "\n",
    "randomNumber = random.randint(minNumber, maxNumber)\n",
    "inputNumber = raw_input(\"Guess the number! [\" + str(minNumber) + \",\" + str(maxNumber) + \"]\\t\")"
   ]
  },
  {
   "cell_type": "markdown",
   "metadata": {},
   "source": [
    "Then we keep asking the user for more proposals until it is found out. In every step the input is checked in order to know whether it is an integer number or not."
   ]
  },
  {
   "cell_type": "code",
   "execution_count": 3,
   "metadata": {
    "collapsed": false
   },
   "outputs": [
    {
     "name": "stdout",
     "output_type": "stream",
     "text": [
      "Try a lesser one!\t5\n",
      "Try a lesser one!\t2\n",
      "Try a greater one!\t3\n",
      "Try a greater one!\t4\n",
      "GREAT!\n"
     ]
    }
   ],
   "source": [
    "guessed = False\n",
    "while not guessed:\n",
    "    if representsInteger(inputNumber):\n",
    "        inputNumber = int(inputNumber)\n",
    "        if inputNumber > randomNumber: \n",
    "            inputNumber = raw_input(\"Try a lesser one!\\t\")\n",
    "        elif inputNumber < randomNumber:\n",
    "            inputNumber = raw_input(\"Try a greater one!\\t\")\n",
    "        else:\n",
    "            print \"GREAT!\"\n",
    "            guessed = True\n",
    "    else: inputNumber = raw_input(\"Write an INTEGER NUMBER!\\t\")"
   ]
  },
  {
   "cell_type": "code",
   "execution_count": null,
   "metadata": {
    "collapsed": true
   },
   "outputs": [],
   "source": []
  }
 ],
 "metadata": {
  "kernelspec": {
   "display_name": "Python 2",
   "language": "python",
   "name": "python2"
  },
  "language_info": {
   "codemirror_mode": {
    "name": "ipython",
    "version": 2
   },
   "file_extension": ".py",
   "mimetype": "text/x-python",
   "name": "python",
   "nbconvert_exporter": "python",
   "pygments_lexer": "ipython2",
   "version": "2.7.13"
  }
 },
 "nbformat": 4,
 "nbformat_minor": 2
}
